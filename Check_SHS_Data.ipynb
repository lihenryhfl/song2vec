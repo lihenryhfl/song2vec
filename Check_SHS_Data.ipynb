{
 "cells": [
  {
   "cell_type": "code",
   "execution_count": 12,
   "metadata": {
    "collapsed": true
   },
   "outputs": [],
   "source": [
    "import pickle\n",
    "import os"
   ]
  },
  {
   "cell_type": "code",
   "execution_count": 3,
   "metadata": {},
   "outputs": [],
   "source": [
    "_7D_id_to_path = pickle.load(open(\"./code-shsd/7D_id_to_path.pkl\", \"rb\"))\n",
    "MSD_id_to_7D_id = pickle.load(open(\"./code-shsd/MSD_id_to_7D_id.pkl\", \"rb\"))"
   ]
  },
  {
   "cell_type": "code",
   "execution_count": 4,
   "metadata": {},
   "outputs": [
    {
     "name": "stdout",
     "output_type": "stream",
     "text": [
      "4598\n",
      "1000000\n"
     ]
    }
   ],
   "source": [
    "print(len(_7D_id_to_path))\n",
    "print(len(MSD_id_to_7D_id))"
   ]
  },
  {
   "cell_type": "code",
   "execution_count": 5,
   "metadata": {
    "collapsed": true
   },
   "outputs": [],
   "source": [
    "_7D_id_to_MSD_id = {}\n",
    "for k,v in MSD_id_to_7D_id.items():\n",
    "    _7D_id_to_MSD_id[v] = k"
   ]
  },
  {
   "cell_type": "code",
   "execution_count": 10,
   "metadata": {},
   "outputs": [
    {
     "data": {
      "text/plain": [
       "'TRNUDQL128E0783E5C'"
      ]
     },
     "execution_count": 10,
     "metadata": {},
     "output_type": "execute_result"
    }
   ],
   "source": [
    "_7D_id_to_MSD_id['18044']"
   ]
  },
  {
   "cell_type": "code",
   "execution_count": 54,
   "metadata": {},
   "outputs": [],
   "source": [
    "root_directory = \"/mnt/kahuna/MSD_audio/SHSDataset/mp3\"\n",
    "SHS_7D_id_to_path = {}\n",
    "for dir_name, subdir_list, file_list in os.walk(root_directory):\n",
    "    for fname in file_list:\n",
    "        path = os.path.abspath(os.path.join(dir_name, fname))\n",
    "        relative_path = path[path.find('mp3/') + len('mp3/') : len(path)]\n",
    "        if not str.isnumeric(relative_path[0]):\n",
    "            continue\n",
    "        _7_id = relative_path[relative_path.rfind('/') + 1 : relative_path.find('.clip.')]\n",
    "        if _7_id not in SHS_7D_id_to_path:\n",
    "            SHS_7D_id_to_path[_7_id] = []\n",
    "        SHS_7D_id_to_path[_7_id].append(relative_path)"
   ]
  },
  {
   "cell_type": "code",
   "execution_count": 55,
   "metadata": {},
   "outputs": [],
   "source": [
    "lens = []\n",
    "for k,v in SHS_7D_id_to_path.items():\n",
    "    if len(v) > 1:\n",
    "        lens.append((k,v))"
   ]
  },
  {
   "cell_type": "code",
   "execution_count": 56,
   "metadata": {},
   "outputs": [
    {
     "data": {
      "text/plain": [
       "0"
      ]
     },
     "execution_count": 56,
     "metadata": {},
     "output_type": "execute_result"
    }
   ],
   "source": [
    "len(lens)"
   ]
  },
  {
   "cell_type": "code",
   "execution_count": 57,
   "metadata": {},
   "outputs": [
    {
     "data": {
      "text/plain": [
       "18161"
      ]
     },
     "execution_count": 57,
     "metadata": {},
     "output_type": "execute_result"
    }
   ],
   "source": [
    "len(SHS_7D_id_to_path)"
   ]
  },
  {
   "cell_type": "code",
   "execution_count": 58,
   "metadata": {},
   "outputs": [],
   "source": [
    "for k,v in _7D_id_to_path.items():\n",
    "    if k not in SHS_7D_id_to_path:\n",
    "        SHS_7D_id_to_path[k] = []\n",
    "    SHS_7D_id_to_path[k].append(v)"
   ]
  },
  {
   "cell_type": "code",
   "execution_count": 59,
   "metadata": {
    "collapsed": true
   },
   "outputs": [],
   "source": [
    "lens = []\n",
    "for k,v in SHS_7D_id_to_path.items():\n",
    "    if len(v) > 1:\n",
    "        lens.append((k,v))"
   ]
  },
  {
   "cell_type": "code",
   "execution_count": 60,
   "metadata": {},
   "outputs": [
    {
     "data": {
      "text/plain": [
       "79"
      ]
     },
     "execution_count": 60,
     "metadata": {},
     "output_type": "execute_result"
    }
   ],
   "source": [
    "len(lens)"
   ]
  },
  {
   "cell_type": "code",
   "execution_count": 61,
   "metadata": {},
   "outputs": [
    {
     "name": "stdout",
     "output_type": "stream",
     "text": [
      "('1032854', ['1191 - The_Very_Thought_Of_You/1032854.clip.mp3', '1/0/1032854.clip.mp3'])\n",
      "('1041703', ['3393 - Please_Baby/1041703.clip.mp3', '1/0/1041703.clip.mp3'])\n",
      "('1022070', ['2348 - The_Fire_Still_Burns/1022070.clip.mp3', '1/0/1022070.clip.mp3'])\n",
      "('1039362', ['1874 - Devotion/1039362.clip.mp3', '1/0/1039362.clip.mp3'])\n",
      "('1027849', ['1091 - Lies__(LP_Version)/1027849.clip.mp3', '1/0/1027849.clip.mp3'])\n",
      "('1023', ['3032 - It_s_Your_Thing/1023.clip.mp3', '1/0/1023.clip.mp3'])\n",
      "('10360', ['707 - Fall_On_Me/10360.clip.mp3', '1/0/10360.clip.mp3'])\n",
      "('1029610', ['2199 - The_Chain_(Album_Version)/1029610.clip.mp3', '1/0/1029610.clip.mp3'])\n",
      "('103953', ['2050 - Cherub_Rock/103953.clip.mp3', '1/0/103953.clip.mp3'])\n",
      "('103943', ['4771 - Terrapin/103943.clip.mp3', '1/0/103943.clip.mp3'])\n"
     ]
    }
   ],
   "source": [
    "for x in lens[:10]:\n",
    "    print(x)"
   ]
  },
  {
   "cell_type": "code",
   "execution_count": null,
   "metadata": {
    "collapsed": true
   },
   "outputs": [],
   "source": []
  }
 ],
 "metadata": {
  "kernelspec": {
   "display_name": "Python 3",
   "language": "python",
   "name": "python3"
  },
  "language_info": {
   "codemirror_mode": {
    "name": "ipython",
    "version": 3
   },
   "file_extension": ".py",
   "mimetype": "text/x-python",
   "name": "python",
   "nbconvert_exporter": "python",
   "pygments_lexer": "ipython3",
   "version": "3.5.2"
  }
 },
 "nbformat": 4,
 "nbformat_minor": 2
}
