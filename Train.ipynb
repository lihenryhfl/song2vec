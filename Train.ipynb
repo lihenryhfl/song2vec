{
 "cells": [
  {
   "cell_type": "code",
   "execution_count": 1,
   "metadata": {},
   "outputs": [
    {
     "name": "stderr",
     "output_type": "stream",
     "text": [
      "Using TensorFlow backend.\n"
     ]
    }
   ],
   "source": [
    "from __future__ import print_function\n",
    "from __future__ import absolute_import\n",
    "\n",
    "import os, socket\n",
    "if socket.gethostname()==\"euler\":\n",
    "    os.environ[\"CUDA_VISIBLE_DEVICES\"]=\"\"\n",
    "\n",
    "import sys\n",
    "import numpy as np\n",
    "import tensorflow as tf\n",
    "from keras import backend as K\n",
    "from keras.layers import Input, Dense\n",
    "from keras.models import Model\n",
    "from keras.layers import Dense, Dropout, Reshape, Permute\n",
    "from keras.layers.convolutional import Convolution2D\n",
    "from keras.layers.convolutional import MaxPooling2D, ZeroPadding2D\n",
    "from keras.layers.normalization import BatchNormalization\n",
    "from keras.layers.advanced_activations import ELU\n",
    "from keras.layers.recurrent import GRU\n",
    "from keras.utils.data_utils import get_file\n",
    "from keras.utils.layer_utils import convert_all_kernels_in_model\n",
    "\n",
    "sys.path.insert(0, './deep-learning-models')\n",
    "from audio_conv_utils import decode_predictions, preprocess_input\n",
    "\n",
    "TH_WEIGHTS_PATH = 'https://github.com/fchollet/deep-learning-models/releases/download/v0.3/music_tagger_crnn_weights_tf_kernels_th_dim_ordering.h5'\n",
    "TF_WEIGHTS_PATH = 'https://github.com/fchollet/deep-learning-models/releases/download/v0.3/music_tagger_crnn_weights_tf_kernels_tf_dim_ordering.h5'\n",
    "\n",
    "#K._LEARNING_PHASE = tf.constant(False)\n",
    "#K.LEARNING_PHASE = tf.constant(False)\n",
    "#K.LEARNING_PHASE = \"HELLO\"\n",
    "#K.set_learning_phase(1)\n",
    "\n",
    "%load_ext autoreload\n",
    "%autoreload 2"
   ]
  },
  {
   "cell_type": "code",
   "execution_count": 2,
   "metadata": {},
   "outputs": [
    {
     "data": {
      "text/plain": [
       "<tf.Tensor 'keras_learning_phase:0' shape=<unknown> dtype=bool>"
      ]
     },
     "execution_count": 2,
     "metadata": {},
     "output_type": "execute_result"
    }
   ],
   "source": [
    "K.learning_phase()"
   ]
  },
  {
   "cell_type": "code",
   "execution_count": 3,
   "metadata": {
    "collapsed": true
   },
   "outputs": [],
   "source": [
    "from __future__ import print_function\n",
    "\n",
    "import os\n",
    "import sys\n",
    "import random\n",
    "import pickle\n",
    "import pandas as pd\n",
    "import numpy as np\n",
    "import tensorflow as tf\n",
    "from keras.preprocessing.text import Tokenizer\n",
    "from keras.preprocessing.sequence import pad_sequences\n",
    "from keras.utils import to_categorical\n",
    "from keras.layers import Dense, Input, Flatten, merge\n",
    "from keras.layers import Conv1D, MaxPooling1D, Embedding\n",
    "from keras.layers.core import Masking\n",
    "from keras.layers.recurrent import LSTM\n",
    "from keras.callbacks import LearningRateScheduler, ModelCheckpoint, CSVLogger\n",
    "from keras.optimizers import rmsprop\n",
    "from keras.regularizers import l2\n",
    "from keras import backend as K\n",
    "from keras.models import Model\n",
    "\n",
    "sys.path.insert(0, './deep-learning-models')\n",
    "from music_tagger_crnn import MusicTaggerCRNN\n",
    "from audio_conv_utils import preprocess_input, decode_predictions\n",
    "\n",
    "from sklearn import metrics\n",
    "import numpy as np\n",
    "import matplotlib.pyplot as plt\n",
    "import pylab as P\n",
    "\n",
    "import socket\n",
    "if socket.gethostname()==\"euler\":\n",
    "    os.environ[\"CUDA_VISIBLE_DEVICES\"]=\"7\""
   ]
  },
  {
   "cell_type": "code",
   "execution_count": 4,
   "metadata": {
    "collapsed": true
   },
   "outputs": [],
   "source": [
    "def create_run_name(params):\n",
    "    k_v_names = []\n",
    "    for k,v in params.items():\n",
    "        k_v_names.append((k,v))\n",
    "        \n",
    "    k_v_names.sort(key=lambda x: x[0])\n",
    "    out_str = \"\"\n",
    "    for k,v in k_v_names:\n",
    "        out_str += k + \"_\" + str(v).replace('.', '-') + \"|\"\n",
    "    return out_str[:-1]"
   ]
  },
  {
   "cell_type": "code",
   "execution_count": 5,
   "metadata": {},
   "outputs": [
    {
     "data": {
      "text/plain": [
       "'glob_margin_1-0|num_hidden_128|return_sequences_False|u_reg_0-001|w_reg_0-001'"
      ]
     },
     "execution_count": 5,
     "metadata": {},
     "output_type": "execute_result"
    }
   ],
   "source": [
    "test = False\n",
    "params = {}\n",
    "params['glob_margin'] = 1.0\n",
    "params['num_hidden'] = 128\n",
    "params['w_reg'] = 0.001\n",
    "params['u_reg'] = 0.001\n",
    "params['return_sequences'] = False\n",
    "\n",
    "run_name = create_run_name(params)\n",
    "run_name"
   ]
  },
  {
   "cell_type": "code",
   "execution_count": 6,
   "metadata": {
    "collapsed": true
   },
   "outputs": [],
   "source": [
    "# load all necessary files\n",
    "valids = pickle.load(open(\"valids.pkl\", \"rb\"))\n",
    "pairs = pickle.load(open(\"pairs.pkl\", \"rb\"))\n",
    "msd_to_info = pickle.load(open(\"msd_to_info.pkl\", \"rb\"))"
   ]
  },
  {
   "cell_type": "code",
   "execution_count": 7,
   "metadata": {},
   "outputs": [
    {
     "name": "stdout",
     "output_type": "stream",
     "text": [
      "valids size: 2.097376 mB\n",
      "pairs size: 2.853112 mB\n",
      "msd_to_info size: 1.57296 mB\n"
     ]
    }
   ],
   "source": [
    "print(\"valids size:\", sys.getsizeof(valids)/1000000, \"mB\")\n",
    "print(\"pairs size:\", sys.getsizeof(pairs)/1000000, \"mB\")\n",
    "print(\"msd_to_info size:\", sys.getsizeof(msd_to_info)/1000000, \"mB\")"
   ]
  },
  {
   "cell_type": "code",
   "execution_count": 8,
   "metadata": {},
   "outputs": [
    {
     "name": "stdout",
     "output_type": "stream",
     "text": [
      "[ 0.445961    0.688843    0.99463728 ...,  0.9737456   0.9810458   0.9816389 ]\n"
     ]
    },
    {
     "data": {
      "image/png": "[encoded data removed]",
      "text/plain": [
       "<matplotlib.figure.Figure at 0x7ff6cddb5160>"
      ]
     },
     "metadata": {},
     "output_type": "display_data"
    }
   ],
   "source": [
    "# most of the similarities lie close to zero\n",
    "sims = np.asarray([float(x[2]) for x in pairs])\n",
    "print(sims)\n",
    "#n, bins, patches = plt.hist(sims, 50, normed=1, facecolor='green', alpha=0.75)\n",
    "n, bins, patches = P.hist(sims, 50, normed=1, histtype='stepfilled')\n",
    "P.setp(patches, 'facecolor', 'g', 'alpha', 0.75)\n",
    "\n",
    "P.show()\n",
    "\n",
    "# 0 means absolutely the same, 1.0 means absolutely dissimilar"
   ]
  },
  {
   "cell_type": "code",
   "execution_count": 9,
   "metadata": {},
   "outputs": [
    {
     "name": "stdout",
     "output_type": "stream",
     "text": [
      "zeros: 5648\n",
      "ones: 114098\n"
     ]
    }
   ],
   "source": [
    "zeros = 0\n",
    "ones = 0\n",
    "for x in sims:\n",
    "    if x < 1e-2:\n",
    "        zeros += 1\n",
    "    elif x > 1 - 1e-2:\n",
    "        ones += 1\n",
    "print(\"zeros:\", zeros)\n",
    "print(\"ones:\", ones)"
   ]
  },
  {
   "cell_type": "code",
   "execution_count": 10,
   "metadata": {},
   "outputs": [
    {
     "data": {
      "text/plain": [
       "('SHSDataset/mp3/3344 - Bali_Ha_i/18044.clip.mp3',\n",
       " \"Bali Ha'i\",\n",
       " 'SODXUGX12A6310DBED',\n",
       " 'On The Moon',\n",
       " 'ARITVH41187B9A5FE4',\n",
       " 'e670db87-f910-4286-bfc6-d7ddd0b0bfbd',\n",
       " 'Peter Cincotti',\n",
       " 239.25506,\n",
       " 0.750112125537,\n",
       " 0.433159162811,\n",
       " 2004,\n",
       " 18044,\n",
       " 59758,\n",
       " 28094,\n",
       " (('easy listening', 50.0), ('00s', 25.0), ('jazz', 100.0)))"
      ]
     },
     "execution_count": 10,
     "metadata": {},
     "output_type": "execute_result"
    }
   ],
   "source": [
    "msd_to_info['TRNUDQL128E0783E5C']"
   ]
  },
  {
   "cell_type": "code",
   "execution_count": 11,
   "metadata": {
    "collapsed": true
   },
   "outputs": [],
   "source": [
    "# test the music tagger model for sanity\n",
    "if test == True:\n",
    "    model = MusicTaggerCRNN(weights='msd')\n",
    "\n",
    "    shuffled_valids = list(valids)\n",
    "    random.shuffle(shuffled_valids)\n",
    "\n",
    "    count = 0\n",
    "    for song in shuffled_valids:    \n",
    "        audio_path = '/mnt/kahuna/MSD_audio/' + msd_to_info[song][0]\n",
    "        tags = msd_to_info[song][-1]\n",
    "        if type(tags) == type(0) or len(tags) == 0:\n",
    "            # no tags\n",
    "            tags = None\n",
    "            continue\n",
    "        melgram = preprocess_input(audio_path)\n",
    "        melgrams = np.expand_dims(melgram, axis=0)\n",
    "\n",
    "        preds = model.predict(melgrams)\n",
    "        print(msd_to_info[song][1], msd_to_info[song][3], msd_to_info[song][6])\n",
    "        print('Predicted:')\n",
    "        print(decode_predictions(preds))\n",
    "        print('Actual:')\n",
    "        if tags is not None:\n",
    "            print(sorted(list(tags),key=lambda x: x[1],reverse=True))\n",
    "        else:\n",
    "            print(\"N/A\")\n",
    "        print('-'*20)\n",
    "        count += 1\n",
    "        if count >= 20:\n",
    "            break"
   ]
  },
  {
   "cell_type": "code",
   "execution_count": 12,
   "metadata": {
    "collapsed": true,
    "scrolled": true
   },
   "outputs": [],
   "source": [
    "pairs = np.asarray(pairs)\n",
    "indices = np.arange(pairs.shape[0], dtype=\"int32\")\n",
    "np.random.shuffle(indices)\n",
    "pairs = pairs[indices]\n",
    "split_pt = int(len(pairs)/7)\n",
    "pairs_train = pairs[:split_pt]\n",
    "pairs_test = pairs[split_pt:]"
   ]
  },
  {
   "cell_type": "code",
   "execution_count": 13,
   "metadata": {
    "collapsed": true
   },
   "outputs": [],
   "source": [
    "# some useful functions:\n",
    "def euc_dist(x):\n",
    "    'Merge function: euclidean_distance(u,v)'\n",
    "    print(x[0].get_shape(), x[1].get_shape())\n",
    "    diff = tf.subtract(x[0], x[1])\n",
    "    diff_sq = tf.square(diff)\n",
    "    #output = tf.reduce_sum(diff_sq, 2)\n",
    "    output_sq = tf.reduce_sum(diff_sq, 1)\n",
    "    output = tf.sqrt(output_sq)\n",
    "    output = tf.reshape(output, (-1,1))\n",
    "    print(\"output.get_shape()\", output.get_shape())\n",
    "    return output\n",
    "\n",
    "def euc_dist_shape(input_shape):\n",
    "    'Merge output shape'\n",
    "    shape = list(input_shape)\n",
    "    #outshape = (shape[0][0],shape[0][1])\n",
    "    outshape = (shape[0][0],1)\n",
    "    print(\"outshape\", outshape)\n",
    "    return tuple(outshape)\n",
    "\n",
    "def euc(vects):\n",
    "    x, y = vects\n",
    "    return K.sqrt(K.sum(K.square(x - y), axis=1, keepdims=True))\n",
    "\n",
    "def contrastive_loss(y_true, y_pred):\n",
    "    '''Contrastive loss from Hadsell-et-al.'06\n",
    "    http://yann.lecun.com/exdb/publis/pdf/hadsell-chopra-lecun-06.pdf\n",
    "    '''\n",
    "    dist = y_pred\n",
    "    return K.mean(y_true * K.square(dist) + (1 - y_true) * K.square(K.maximum(params['glob_margin'] - dist, 0)))\n",
    "\n",
    "def custom_crossentropy(y_true, y_pred):\n",
    "    dist = y_pred\n",
    "    return K.mean(y_true * K.log(K.tanh(K.square(dist))) + (1 - y_true) * K.log(1 - K.tanh(K.square(dist))))\n",
    "\n",
    "def siamese_accuracy(y_true, y_pred):\n",
    "    margin = tf.constant([params['glob_margin']])\n",
    "    zero = tf.constant([0.0])\n",
    "    return K.mean(K.equal(np.abs(1 - y_true), K.cast(K.greater_equal(y_pred, margin), 'float32')))\n",
    "\n",
    "# add callback for learning rate\n",
    "def step_decay(epoch):\n",
    "    initial_lrate = 1e-10\n",
    "    drop = 0.1\n",
    "    epochs_drop = 150.0\n",
    "    lrate = initial_lrate * np.power(drop, np.floor((1+epoch)/epochs_drop))\n",
    "    return lrate\n",
    "lrate = LearningRateScheduler(step_decay)\n",
    "\n",
    "csv_logger = CSVLogger(run_name + '.log')\n",
    "checkpointer = ModelCheckpoint(filepath='./' + run_name + '.hdf5', verbose=1, save_best_only=True)\n",
    "optimizer = rmsprop(lr=0.0)"
   ]
  },
  {
   "cell_type": "code",
   "execution_count": 14,
   "metadata": {},
   "outputs": [
    {
     "name": "stderr",
     "output_type": "stream",
     "text": [
      "/usr/local/lib/python3.5/dist-packages/ipykernel_launcher.py:28: UserWarning: Update your `Conv2D` call to the Keras 2 API: `Conv2D(64, (3, 3), padding=\"same\", name=\"conv1\")`\n",
      "/usr/local/lib/python3.5/dist-packages/ipykernel_launcher.py:29: UserWarning: Update your `BatchNormalization` call to the Keras 2 API: `BatchNormalization(name=\"bn1\", axis=3)`\n",
      "/usr/local/lib/python3.5/dist-packages/ipykernel_launcher.py:34: UserWarning: Update your `Conv2D` call to the Keras 2 API: `Conv2D(128, (3, 3), padding=\"same\", name=\"conv2\")`\n",
      "/usr/local/lib/python3.5/dist-packages/ipykernel_launcher.py:35: UserWarning: Update your `BatchNormalization` call to the Keras 2 API: `BatchNormalization(name=\"bn2\", axis=3)`\n",
      "/usr/local/lib/python3.5/dist-packages/ipykernel_launcher.py:40: UserWarning: Update your `Conv2D` call to the Keras 2 API: `Conv2D(128, (3, 3), padding=\"same\", name=\"conv3\")`\n",
      "/usr/local/lib/python3.5/dist-packages/ipykernel_launcher.py:41: UserWarning: Update your `BatchNormalization` call to the Keras 2 API: `BatchNormalization(name=\"bn3\", axis=3)`\n",
      "/usr/local/lib/python3.5/dist-packages/ipykernel_launcher.py:46: UserWarning: Update your `Conv2D` call to the Keras 2 API: `Conv2D(128, (3, 3), padding=\"same\", name=\"conv4\")`\n",
      "/usr/local/lib/python3.5/dist-packages/ipykernel_launcher.py:47: UserWarning: Update your `BatchNormalization` call to the Keras 2 API: `BatchNormalization(name=\"bn4\", axis=3)`\n"
     ]
    },
    {
     "name": "stdout",
     "output_type": "stream",
     "text": [
      "outshape (None, 1)\n"
     ]
    },
    {
     "name": "stderr",
     "output_type": "stream",
     "text": [
      "/usr/local/lib/python3.5/dist-packages/ipykernel_launcher.py:65: UserWarning: The `merge` function is deprecated and will be removed after 08/2017. Use instead layers from `keras.layers.merge`, e.g. `add`, `concatenate`, etc.\n",
      "/usr/local/lib/python3.5/dist-packages/keras/legacy/layers.py:460: UserWarning: The `Merge` layer is deprecated and will be removed after 08/2017. Use instead layers from `keras.layers.merge`, e.g. `add`, `concatenate`, etc.\n",
      "  name=name)\n",
      "/usr/local/lib/python3.5/dist-packages/ipykernel_launcher.py:67: UserWarning: Update your `Model` call to the Keras 2 API: `Model(outputs=[<tf.Tenso..., inputs=[<tf.Tenso...)`\n"
     ]
    }
   ],
   "source": [
    "# now build actual model\n",
    "\n",
    "# Determine proper input shape\n",
    "if K.image_dim_ordering() == 'th':\n",
    "    input_shape = (1, 96, 1366)\n",
    "else:\n",
    "    input_shape = (96, 1366, 1)\n",
    "\n",
    "melgram_input1 = Input(shape=input_shape)\n",
    "melgram_input2 = Input(shape=input_shape)\n",
    "\n",
    "# Determine input axis\n",
    "if K.image_dim_ordering() == 'th':\n",
    "    channel_axis = 1\n",
    "    freq_axis = 2\n",
    "    time_axis = 3\n",
    "else:\n",
    "    channel_axis = 3\n",
    "    freq_axis = 1\n",
    "    time_axis = 2\n",
    "\n",
    "layers = []\n",
    "# Input block\n",
    "layers.append(ZeroPadding2D(padding=(0, 37)))\n",
    "layers.append(BatchNormalization(axis=time_axis, name='bn_0_freq'))\n",
    "\n",
    "# Conv block 1\n",
    "layers.append(Convolution2D(64, 3, 3, border_mode='same', name='conv1')) \n",
    "layers.append(BatchNormalization(axis=channel_axis, mode=0, name='bn1')) \n",
    "layers.append(ELU()) \n",
    "layers.append(MaxPooling2D(pool_size=(2, 2), strides=(2, 2), name='pool1')) \n",
    "\n",
    "# Conv block 2\n",
    "layers.append(Convolution2D(128, 3, 3, border_mode='same', name='conv2')) \n",
    "layers.append(BatchNormalization(axis=channel_axis, mode=0, name='bn2')) \n",
    "layers.append(ELU()) \n",
    "layers.append(MaxPooling2D(pool_size=(3, 3), strides=(3, 3), name='pool2')) \n",
    "\n",
    "# Conv block 3\n",
    "layers.append(Convolution2D(128, 3, 3, border_mode='same', name='conv3')) \n",
    "layers.append(BatchNormalization(axis=channel_axis, mode=0, name='bn3')) \n",
    "layers.append(ELU()) \n",
    "layers.append(MaxPooling2D(pool_size=(4, 4), strides=(4, 4), name='pool3')) \n",
    "\n",
    "# Conv block 4\n",
    "layers.append(Convolution2D(128, 3, 3, border_mode='same', name='conv4'))\n",
    "layers.append(BatchNormalization(axis=channel_axis, mode=0, name='bn4'))\n",
    "layers.append(ELU())\n",
    "layers.append(MaxPooling2D(pool_size=(4, 4), strides=(4, 4), name='pool4'))\n",
    "\n",
    "# reshaping\n",
    "layers.append(Reshape((15, 128)))\n",
    "\n",
    "# GRU block 1, 2, output\n",
    "layers.append(GRU(32, return_sequences=True, name='gru1'))\n",
    "layers.append(GRU(32, return_sequences=False, name='gru2'))\n",
    "\n",
    "x1 = melgram_input1\n",
    "x2 = melgram_input2\n",
    "\n",
    "for l in layers:\n",
    "    x1 = l(x1)\n",
    "    x2 = l(x2)\n",
    "\n",
    "output = merge([x1, x2], mode=euc, output_shape=euc_dist_shape)\n",
    "\n",
    "model = Model(input=[melgram_input1, melgram_input2], output=[output])\n",
    "\n",
    "# Load weights\n",
    "if K.image_dim_ordering() == 'tf':\n",
    "    weights_path = get_file('music_tagger_crnn_weights_tf_kernels_tf_dim_ordering.h5',\n",
    "                            TF_WEIGHTS_PATH,\n",
    "                            cache_subdir='models')\n",
    "else:\n",
    "    weights_path = get_file('music_tagger_crnn_weights_tf_kernels_th_dim_ordering.h5',\n",
    "                            TH_WEIGHTS_PATH,\n",
    "                            cache_subdir='models')\n",
    "model.load_weights(weights_path, by_name=True)\n",
    "if K.backend() == 'theano':\n",
    "    convert_all_kernels_in_model(model)\n",
    "\n",
    "#model.compile(optimizer=optimizer, loss=contrastive_loss, metrics=['mean_squared_error'])\n",
    "model.compile(optimizer=optimizer, loss=custom_crossentropy, metrics=['mean_squared_error'])"
   ]
  },
  {
   "cell_type": "code",
   "execution_count": 15,
   "metadata": {},
   "outputs": [
    {
     "name": "stdout",
     "output_type": "stream",
     "text": [
      "[<tensorflow.python.ops.variables.Variable object at 0x7ff6ca5124e0>, <tensorflow.python.ops.variables.Variable object at 0x7ff6ca5128d0>, <tensorflow.python.ops.variables.Variable object at 0x7ff6d3baef98>, <tensorflow.python.ops.variables.Variable object at 0x7ff6cf62ed30>, <tensorflow.python.ops.variables.Variable object at 0x7ff6d18f50b8>, <tensorflow.python.ops.variables.Variable object at 0x7ff6d18f5668>, <tensorflow.python.ops.variables.Variable object at 0x7ff6d3925be0>, <tensorflow.python.ops.variables.Variable object at 0x7ff6d3925cc0>, <tensorflow.python.ops.variables.Variable object at 0x7ff6d38c2c50>, <tensorflow.python.ops.variables.Variable object at 0x7ff6d38c26a0>, <tensorflow.python.ops.variables.Variable object at 0x7ff6d386ffd0>, <tensorflow.python.ops.variables.Variable object at 0x7ff6d3800828>, <tensorflow.python.ops.variables.Variable object at 0x7ff6d380dd68>, <tensorflow.python.ops.variables.Variable object at 0x7ff6d3818470>, <tensorflow.python.ops.variables.Variable object at 0x7ff6d37469b0>, <tensorflow.python.ops.variables.Variable object at 0x7ff6d3746a90>, <tensorflow.python.ops.variables.Variable object at 0x7ff6d3763a20>, <tensorflow.python.ops.variables.Variable object at 0x7ff6d3763b38>, <tensorflow.python.ops.variables.Variable object at 0x7ff6d3691d68>, <tensorflow.python.ops.variables.Variable object at 0x7ff6d3691e10>, <tensorflow.python.ops.variables.Variable object at 0x7ff6d369e630>, <tensorflow.python.ops.variables.Variable object at 0x7ff6d34e7be0>, <tensorflow.python.ops.variables.Variable object at 0x7ff6d34e7780>, <tensorflow.python.ops.variables.Variable object at 0x7ff6d345fe10>]\n",
      "[<tf.Tensor 'gradients/AddN_114:0' shape=(1440,) dtype=float32>, <tf.Tensor 'gradients/AddN_112:0' shape=(1440,) dtype=float32>, <tf.Tensor 'gradients/AddN_108:0' shape=(3, 3, 1, 64) dtype=float32>, <tf.Tensor 'gradients/AddN_107:0' shape=(64,) dtype=float32>, <tf.Tensor 'gradients/AddN_98:0' shape=(64,) dtype=float32>, <tf.Tensor 'gradients/AddN_95:0' shape=(64,) dtype=float32>, <tf.Tensor 'gradients/AddN_92:0' shape=(3, 3, 64, 128) dtype=float32>, <tf.Tensor 'gradients/AddN_91:0' shape=(128,) dtype=float32>, <tf.Tensor 'gradients/AddN_82:0' shape=(128,) dtype=float32>, <tf.Tensor 'gradients/AddN_79:0' shape=(128,) dtype=float32>, <tf.Tensor 'gradients/AddN_76:0' shape=(3, 3, 128, 128) dtype=float32>, <tf.Tensor 'gradients/AddN_75:0' shape=(128,) dtype=float32>, <tf.Tensor 'gradients/AddN_66:0' shape=(128,) dtype=float32>, <tf.Tensor 'gradients/AddN_63:0' shape=(128,) dtype=float32>, <tf.Tensor 'gradients/AddN_60:0' shape=(3, 3, 128, 128) dtype=float32>, <tf.Tensor 'gradients/AddN_59:0' shape=(128,) dtype=float32>, <tf.Tensor 'gradients/AddN_50:0' shape=(128,) dtype=float32>, <tf.Tensor 'gradients/AddN_47:0' shape=(128,) dtype=float32>, <tf.Tensor 'gradients/AddN_44:0' shape=(128, 96) dtype=float32>, <tf.Tensor 'gradients/AddN_34:0' shape=(32, 96) dtype=float32>, <tf.Tensor 'gradients/AddN_41:0' shape=(96,) dtype=float32>, <tf.Tensor 'gradients/AddN_22:0' shape=(32, 96) dtype=float32>, <tf.Tensor 'gradients/AddN_12:0' shape=(32, 96) dtype=float32>, <tf.Tensor 'gradients/AddN_19:0' shape=(96,) dtype=float32>]\n"
     ]
    }
   ],
   "source": [
    "weights = model.trainable_weights # weight tensors\n",
    "\n",
    "#print([weight.name[:-2] for weight in weights])\n",
    "#print([(weight.name[:-2],model.get_layer(weight.name[:-2])) for weight in weights])\n",
    "\n",
    "#for weight in weights:\n",
    "#    print(weight.name[:weight.name.rfind('/')])\n",
    "#    print(model.get_layer(weight.name[:weight.name.rfind('/')]).trainable)\n",
    "#weights = [weight for weight in weights if model.get_layer(weight.name[:weight.name.rfind('/')]).trainable] # filter down weights tensors to only ones which are trainable\n",
    "gradients = model.optimizer.get_gradients(model.total_loss, weights) # gradient tensors\n",
    "\n",
    "print(weights)\n",
    "print(gradients)\n",
    "# ==> [dense_1_W, dense_1_b]"
   ]
  },
  {
   "cell_type": "code",
   "execution_count": 16,
   "metadata": {},
   "outputs": [
    {
     "data": {
      "text/plain": [
       "<tf.Tensor 'keras_learning_phase:0' shape=<unknown> dtype=bool>"
      ]
     },
     "execution_count": 16,
     "metadata": {},
     "output_type": "execute_result"
    }
   ],
   "source": [
    "K.learning_phase()"
   ]
  },
  {
   "cell_type": "code",
   "execution_count": 17,
   "metadata": {
    "collapsed": true
   },
   "outputs": [],
   "source": [
    "input_tensors = [model.inputs[0], # input data\n",
    "                 model.inputs[1],\n",
    "                 model.sample_weights[0], # how much to weight each sample by\n",
    "                 model.targets[0], # labels\n",
    "                 K.learning_phase() # train or test mode\n",
    "                 #\"HELLO\"\n",
    "]\n",
    "\n",
    "get_gradients = K.function(inputs=input_tensors, outputs=gradients)"
   ]
  },
  {
   "cell_type": "code",
   "execution_count": 18,
   "metadata": {
    "collapsed": true
   },
   "outputs": [],
   "source": [
    "crnn_out1_f = K.function(model.inputs, [x1])\n",
    "crnn_out2_f = K.function(model.inputs, [x2])\n",
    "crnn1_grad_f = K.function(model.inputs, [K.gradients(x1, model.inputs)[0]])\n",
    "crnn2_grad_f = K.function(model.inputs, [K.gradients(x2, model.inputs)[1]])\n",
    "end_grad_f = K.function([x1,x2], K.gradients(output, [x1,x2]))"
   ]
  },
  {
   "cell_type": "code",
   "execution_count": 19,
   "metadata": {},
   "outputs": [
    {
     "data": {
      "text/plain": [
       "[<keras.engine.topology.InputLayer at 0x7ff6ca50f3c8>,\n",
       " <keras.engine.topology.InputLayer at 0x7ff6ca50f438>,\n",
       " <keras.layers.convolutional.ZeroPadding2D at 0x7ff6ca50f780>,\n",
       " <keras.layers.normalization.BatchNormalization at 0x7ff6ca50f5f8>,\n",
       " <keras.layers.convolutional.Conv2D at 0x7ff6ca50f978>,\n",
       " <keras.layers.normalization.BatchNormalization at 0x7ff6ca50f908>,\n",
       " <keras.layers.advanced_activations.ELU at 0x7ff6ca50fb70>,\n",
       " <keras.layers.pooling.MaxPooling2D at 0x7ff6ca50fe80>,\n",
       " <keras.layers.convolutional.Conv2D at 0x7ff6ca50fef0>,\n",
       " <keras.layers.normalization.BatchNormalization at 0x7ff6ca50ff60>,\n",
       " <keras.layers.advanced_activations.ELU at 0x7ff6ca519048>,\n",
       " <keras.layers.pooling.MaxPooling2D at 0x7ff6ca5192b0>,\n",
       " <keras.layers.convolutional.Conv2D at 0x7ff6ca519320>,\n",
       " <keras.layers.normalization.BatchNormalization at 0x7ff6ca519390>,\n",
       " <keras.layers.advanced_activations.ELU at 0x7ff6ca519438>,\n",
       " <keras.layers.pooling.MaxPooling2D at 0x7ff6ca5196d8>,\n",
       " <keras.layers.convolutional.Conv2D at 0x7ff6ca519748>,\n",
       " <keras.layers.normalization.BatchNormalization at 0x7ff6ca5197b8>,\n",
       " <keras.layers.advanced_activations.ELU at 0x7ff6ca519860>,\n",
       " <keras.layers.pooling.MaxPooling2D at 0x7ff6ca519b00>,\n",
       " <keras.layers.core.Reshape at 0x7ff6ca519c18>,\n",
       " <keras.layers.recurrent.GRU at 0x7ff6ca519b70>,\n",
       " <keras.layers.recurrent.GRU at 0x7ff6ca519c50>,\n",
       " <keras.legacy.layers.Merge at 0x7ff6d343ada0>]"
      ]
     },
     "execution_count": 19,
     "metadata": {},
     "output_type": "execute_result"
    }
   ],
   "source": [
    "model.layers"
   ]
  },
  {
   "cell_type": "code",
   "execution_count": 20,
   "metadata": {
    "collapsed": true
   },
   "outputs": [],
   "source": [
    "def librosa_exists():\n",
    "    try:\n",
    "        __import__('librosa')\n",
    "    except ImportError:\n",
    "        return False\n",
    "    else:\n",
    "        return True\n",
    "    \n",
    "def preprocess_input(audio_path, dim_ordering='default'):\n",
    "    '''Reads an audio file and outputs a Mel-spectrogram.\n",
    "    '''\n",
    "    if dim_ordering == 'default':\n",
    "        dim_ordering = K.image_dim_ordering()\n",
    "    assert dim_ordering in {'tf', 'th'}\n",
    "\n",
    "    if librosa_exists():\n",
    "        import librosa\n",
    "    else:\n",
    "        raise RuntimeError('Librosa is required to process audio files.\\n' +\n",
    "                           'Install it via `pip install librosa` \\nor visit ' +\n",
    "                           'http://librosa.github.io/librosa/ for details.')\n",
    "\n",
    "    # mel-spectrogram parameters\n",
    "    SR = 12000\n",
    "    N_FFT = 512\n",
    "    N_MELS = 96\n",
    "    HOP_LEN = 256\n",
    "    DURA = 29.12\n",
    "    \n",
    "    try:\n",
    "        src, sr = librosa.load(audio_path, sr=SR)\n",
    "    except:\n",
    "        print(\"Unexpected error5:\", sys.exc_info()[0])\n",
    "        raise\n",
    "    n_sample = src.shape[0]\n",
    "    n_sample_wanted = int(DURA * SR)\n",
    "\n",
    "    # trim the signal at the center\n",
    "    if n_sample < n_sample_wanted:  # if too short\n",
    "        src = np.hstack((src, np.zeros((int(DURA * SR) - n_sample,))))\n",
    "    elif n_sample > n_sample_wanted:  # if too long\n",
    "        src = src[int((n_sample - n_sample_wanted) / 2):\n",
    "                  int((n_sample + n_sample_wanted) / 2)]\n",
    "\n",
    "    logam = librosa.logamplitude\n",
    "    melgram = librosa.feature.melspectrogram\n",
    "    x = logam(melgram(y=src, sr=SR, hop_length=HOP_LEN,\n",
    "                      n_fft=N_FFT, n_mels=N_MELS) ** 2,\n",
    "                      ref_power=1.0)\n",
    "    #librosa.display.specshow(x, sr=SR, hop_length=HOP_LEN,\n",
    "    #                  n_fft=N_FFT, n_mels=N_MELS)\n",
    "\n",
    "    if dim_ordering == 'th':\n",
    "        x = np.expand_dims(x, axis=0)\n",
    "    elif dim_ordering == 'tf':\n",
    "        x = np.expand_dims(x, axis=3)\n",
    "    return x"
   ]
  },
  {
   "cell_type": "code",
   "execution_count": 21,
   "metadata": {
    "collapsed": true
   },
   "outputs": [],
   "source": [
    "from python_speech_features import mfcc\n",
    "import scipy.io.wavfile as wav\n",
    "import matplotlib.pyplot as plt\n",
    "import librosa\n",
    "\n",
    "def getMfcc(audio_path):\n",
    "    SR = 12000\n",
    "    SR = 12000\n",
    "    N_FFT = 512\n",
    "    N_MELS = 96\n",
    "    HOP_LEN = 256\n",
    "    DURA = 29.12\n",
    "    #(rate,sig) = wav.read(\"AudioFile.wav\")\n",
    "    src, sr = librosa.load(audio_path, sr=SR)\n",
    "    n_sample = src.shape[0]\n",
    "    n_sample_wanted = int(DURA * SR)\n",
    "\n",
    "    # trim the signal at the center\n",
    "    if n_sample < n_sample_wanted:  # if too short\n",
    "        src = np.hstack((src, np.zeros((int(DURA * SR) - n_sample,))))\n",
    "    elif n_sample > n_sample_wanted:  # if too long\n",
    "        src = src[int((n_sample - n_sample_wanted) / 2):\n",
    "                  int((n_sample + n_sample_wanted) / 2)]\n",
    "    #mfcc_feat = mfcc(sig,rate)\n",
    "    mfcc_feat = mfcc(src,samplerate=sr,)\n",
    "\n",
    "    print(mfcc_feat)\n",
    "    plt.plot(mfcc_feat)\n",
    "    plt.show()\n",
    "    return mfcc_feat"
   ]
  },
  {
   "cell_type": "code",
   "execution_count": 22,
   "metadata": {},
   "outputs": [
    {
     "data": {
      "text/plain": [
       "'\\ndef generate_samples(pairs, minibatch_size):\\n    i = 0\\n    n = len(pairs)\\n    while 1:\\n        x_1_arr = np.empty((minibatch_size, 96, 1366, 1))\\n        x_2_arr = np.empty((minibatch_size, 96, 1366, 1))\\n        y_arr = np.empty((minibatch_size,))\\n        while i < minibatch_size:\\n            rand_num = random.randint(0,n-1)\\n            print(rand_num)\\n            x_1, x_2, y = pairs[rand_num]\\n            audio_path1 = \\'/mnt/kahuna/MSD_audio/\\' + msd_to_info[x_1][0]\\n            audio_path2 = \\'/mnt/kahuna/MSD_audio/\\' + msd_to_info[x_2][0]\\n            #getMfcc(audio_path1)\\n            try:\\n                melgram1 = preprocess_input(audio_path1)\\n                melgram2 = preprocess_input(audio_path2)\\n            except:\\n                print(\"Unexpected error4:\", sys.exc_info()[0])\\n                #print(audio_path1, audio_path2)\\n                #continue\\n                raise\\n            if np.sum(np.isnan(melgram1)) > 0 or np.sum(np.isnan(melgram2)) > 0:\\n                print(\"nan!\")\\n                continue\\n            if np.sum(melgram1) > 0 or np.sum(melgram2) > 0:\\n                print(\"zero!\")\\n                continue\\n            x_1_arr[i,:,:,:] = np.expand_dims(melgram1, axis=0)\\n            x_2_arr[i,:,:,:] = np.expand_dims(melgram2, axis=0)\\n            y_arr[i] = y\\n            i += 1\\n        #print(\"generated the {}th sample\".format(i))\\n        yield(([x_1_arr, x_2_arr], y_arr))\\n'"
      ]
     },
     "execution_count": 22,
     "metadata": {},
     "output_type": "execute_result"
    }
   ],
   "source": [
    "\"\"\"\n",
    "def generate_samples(pairs, minibatch_size):\n",
    "    i = 0\n",
    "    n = len(pairs)\n",
    "    while 1:\n",
    "        x_1_arr = np.empty((minibatch_size, 96, 1366, 1))\n",
    "        x_2_arr = np.empty((minibatch_size, 96, 1366, 1))\n",
    "        y_arr = np.empty((minibatch_size,))\n",
    "        while i < minibatch_size:\n",
    "            rand_num = random.randint(0,n-1)\n",
    "            print(rand_num)\n",
    "            x_1, x_2, y = pairs[rand_num]\n",
    "            audio_path1 = '/mnt/kahuna/MSD_audio/' + msd_to_info[x_1][0]\n",
    "            audio_path2 = '/mnt/kahuna/MSD_audio/' + msd_to_info[x_2][0]\n",
    "            #getMfcc(audio_path1)\n",
    "            try:\n",
    "                melgram1 = preprocess_input(audio_path1)\n",
    "                melgram2 = preprocess_input(audio_path2)\n",
    "            except:\n",
    "                print(\"Unexpected error4:\", sys.exc_info()[0])\n",
    "                #print(audio_path1, audio_path2)\n",
    "                #continue\n",
    "                raise\n",
    "            if np.sum(np.isnan(melgram1)) > 0 or np.sum(np.isnan(melgram2)) > 0:\n",
    "                print(\"nan!\")\n",
    "                continue\n",
    "            if np.sum(melgram1) > 0 or np.sum(melgram2) > 0:\n",
    "                print(\"zero!\")\n",
    "                continue\n",
    "            x_1_arr[i,:,:,:] = np.expand_dims(melgram1, axis=0)\n",
    "            x_2_arr[i,:,:,:] = np.expand_dims(melgram2, axis=0)\n",
    "            y_arr[i] = y\n",
    "            i += 1\n",
    "        #print(\"generated the {}th sample\".format(i))\n",
    "        yield(([x_1_arr, x_2_arr], y_arr))\n",
    "\"\"\""
   ]
  },
  {
   "cell_type": "code",
   "execution_count": 23,
   "metadata": {},
   "outputs": [
    {
     "data": {
      "text/plain": [
       "\"\\nfor x, y in generate_samples(pairs_train, 1):\\n    x_1, x_2 = x\\n    # most of the similarities lie close to zero\\n    vals = x[0].flatten()\\n    #n, bins, patches = plt.hist(sims, 50, normed=1, facecolor='green', alpha=0.75)\\n    n, bins, patches = P.hist(vals, 50, normed=1, histtype='stepfilled')\\n    P.setp(patches, 'facecolor', 'g', 'alpha', 0.75)\\n\\n    P.show()\\n    #print(x_1,x_2)\\n    #K.set_learning_phase(False)\\n    print(crnn_out1_f([x_1,x_2]))\\n    print(crnn_out2_f([x_1,x_2]))\\n    dist = model.predict([x_1, x_2])\\n    print(model.predict([x_1, x_2]))\\n    loss = contrastive_loss(y, dist)\\n    loss = K.eval(loss)\\n    print(loss)\\n    #print(lstm_out1_f([x_1,x_2]), lstm_out2_f([x_1,x_2]))\\n    count += 1\\n    if count > 0:\\n        break\\n\""
      ]
     },
     "execution_count": 23,
     "metadata": {},
     "output_type": "execute_result"
    }
   ],
   "source": [
    "def generate_samples(pairs, minibatch_size):\n",
    "    n = len(pairs)\n",
    "    tot = np.product((96,1366,1))\n",
    "    tot_count = 0\n",
    "    while 1:\n",
    "        x_1_arr = np.empty((minibatch_size, 96, 1366, 1))\n",
    "        x_2_arr = np.empty((minibatch_size, 96, 1366, 1))\n",
    "        y_arr = np.empty((minibatch_size,))\n",
    "        i = 0\n",
    "        while i < minibatch_size:\n",
    "            rand_num = random.randint(0,n-1)\n",
    "            #print(rand_num)\n",
    "            x_1, x_2, y = pairs[rand_num]\n",
    "            audio_path1 = '/mnt/kahuna/MSD_audio/' + msd_to_info[x_1][0]\n",
    "            audio_path2 = '/mnt/kahuna/MSD_audio/' + msd_to_info[x_2][0]\n",
    "            #getMfcc(audio_path1)\n",
    "            try:\n",
    "                melgram1 = preprocess_input(audio_path1)\n",
    "                melgram2 = preprocess_input(audio_path2)\n",
    "            except:\n",
    "                print(\"Unexpected error4:\", sys.exc_info()[0])\n",
    "                #print(audio_path1, audio_path2)\n",
    "                continue\n",
    "                #raise\n",
    "            print(\"tot_count:\", tot_count, np.sum(np.isclose(melgram1, melgram2))/tot)\n",
    "            if np.sum(np.isclose(melgram1, melgram2))/tot > 0.5:\n",
    "                print(\"too close!\")\n",
    "                continue\n",
    "            if np.sum(np.isnan(melgram1)) > 0 or np.sum(np.isnan(melgram2)) > 0:\n",
    "                print(\"nan!\")\n",
    "                continue\n",
    "            if np.sum(melgram1) > 0 or np.sum(melgram2) > 0:\n",
    "                print(\"zero!\")\n",
    "                continue\n",
    "            x_1_arr[i,:,:,:] = np.expand_dims(melgram1, axis=0)\n",
    "            x_2_arr[i,:,:,:] = np.expand_dims(melgram2, axis=0)\n",
    "            y_arr[i] = y\n",
    "            #y_arr[i] = tot_count\n",
    "            i += 1\n",
    "            tot_count += 1\n",
    "        #print(y_arr)\n",
    "        #print(\"generated the {}th sample\".format(i))\n",
    "        for x1,x2 in zip(x_1_arr, x_2_arr):\n",
    "            assert not (np.sum(np.isclose(x1, x2))/tot > 0.5)\n",
    "        yield(([x_1_arr, x_2_arr], y_arr))\n",
    "        #yield(([0, 0], 0))\n",
    "\n",
    "count = 0\n",
    "tf_false = tf.cast(tf.constant([0.0]), 'bool')\n",
    "\"\"\"\n",
    "for x, y in generate_samples(pairs_train, 1):\n",
    "    x_1, x_2 = x\n",
    "    # most of the similarities lie close to zero\n",
    "    vals = x[0].flatten()\n",
    "    #n, bins, patches = plt.hist(sims, 50, normed=1, facecolor='green', alpha=0.75)\n",
    "    n, bins, patches = P.hist(vals, 50, normed=1, histtype='stepfilled')\n",
    "    P.setp(patches, 'facecolor', 'g', 'alpha', 0.75)\n",
    "\n",
    "    P.show()\n",
    "    #print(x_1,x_2)\n",
    "    #K.set_learning_phase(False)\n",
    "    print(crnn_out1_f([x_1,x_2]))\n",
    "    print(crnn_out2_f([x_1,x_2]))\n",
    "    dist = model.predict([x_1, x_2])\n",
    "    print(model.predict([x_1, x_2]))\n",
    "    loss = contrastive_loss(y, dist)\n",
    "    loss = K.eval(loss)\n",
    "    print(loss)\n",
    "    #print(lstm_out1_f([x_1,x_2]), lstm_out2_f([x_1,x_2]))\n",
    "    count += 1\n",
    "    if count > 0:\n",
    "        break\n",
    "\"\"\""
   ]
  },
  {
   "cell_type": "code",
   "execution_count": 24,
   "metadata": {},
   "outputs": [
    {
     "name": "stdout",
     "output_type": "stream",
     "text": [
      "[[ -2.37843016  -8.07968859 -13.54347174 ...,  -8.05539889  -0.9564719\n",
      "   -2.28410053]\n",
      " [ -2.45591515  -7.41843846 -13.60669785 ...,  -4.00184937  -1.40267418\n",
      "   -3.8395127 ]\n",
      " [ -2.31388113  -5.75595294 -16.38217427 ...,  -0.04773316  -0.8857626\n",
      "   -0.77255285]\n",
      " ..., \n",
      " [ -1.84804944 -12.4303273   -6.41227014 ..., -11.28913757  -1.76969401\n",
      "    1.84003965]\n",
      " [ -1.31799006 -10.44794187  -4.9589534  ...,  -8.43637212   3.6664526\n",
      "   -3.59601978]\n",
      " [ -1.49486225  -9.61656855  -1.43415403 ..., -11.41430778   2.0306632\n",
      "   -5.03996482]]\n"
     ]
    },
    {
     "data": {
      "image/png": "[encoded data removed]",
      "text/plain": [
       "<matplotlib.figure.Figure at 0x7ff6a76cb0f0>"
      ]
     },
     "metadata": {},
     "output_type": "display_data"
    },
    {
     "name": "stdout",
     "output_type": "stream",
     "text": [
      "[[ -1.30216009 -12.24488686  14.77067641 ...,  -5.50918163 -10.84094466\n",
      "  -16.30582167]\n",
      " [ -1.42736423 -11.40970686  18.83977442 ..., -12.97191652  -9.01658448\n",
      "  -25.21088562]\n",
      " [ -1.29454248 -14.86726579  19.57612976 ...,  -8.20046553  -2.71727721\n",
      "  -18.57050541]\n",
      " ..., \n",
      " [ -3.40885933   4.71215513  -7.64489783 ..., -21.97130768  -7.31726154\n",
      "   24.00452269]\n",
      " [ -3.53920319   5.56328318  -6.92734106 ..., -20.02668413  -2.1056872\n",
      "   23.06755337]\n",
      " [ -3.80774642   4.44953896  -6.81770147 ..., -24.76050643  -4.82233099\n",
      "   18.07084267]]\n"
     ]
    },
    {
     "data": {
      "image/png": "[encoded data removed]",
      "text/plain": [
       "<matplotlib.figure.Figure at 0x7ff72025f780>"
      ]
     },
     "metadata": {},
     "output_type": "display_data"
    }
   ],
   "source": [
    "rand_num = random.randint(0,len(pairs)-1)\n",
    "x_1, x_2, y = pairs[rand_num]\n",
    "audio_path1 = '/mnt/kahuna/MSD_audio/' + msd_to_info[x_1][0]\n",
    "audio_path2 = '/mnt/kahuna/MSD_audio/' + msd_to_info[x_2][0]\n",
    "m11 = getMfcc(audio_path1)\n",
    "m12 = getMfcc(audio_path2)\n",
    "m21 = preprocess_input(audio_path1)\n",
    "m22 = preprocess_input(audio_path2)"
   ]
  },
  {
   "cell_type": "code",
   "execution_count": 25,
   "metadata": {},
   "outputs": [
    {
     "data": {
      "text/plain": [
       "(2911, 13)"
      ]
     },
     "execution_count": 25,
     "metadata": {},
     "output_type": "execute_result"
    }
   ],
   "source": [
    "m11.shape"
   ]
  },
  {
   "cell_type": "code",
   "execution_count": 26,
   "metadata": {},
   "outputs": [
    {
     "data": {
      "text/plain": [
       "['__call__',\n",
       " '__class__',\n",
       " '__delattr__',\n",
       " '__dict__',\n",
       " '__dir__',\n",
       " '__doc__',\n",
       " '__eq__',\n",
       " '__format__',\n",
       " '__ge__',\n",
       " '__getattribute__',\n",
       " '__gt__',\n",
       " '__hash__',\n",
       " '__init__',\n",
       " '__le__',\n",
       " '__lt__',\n",
       " '__module__',\n",
       " '__ne__',\n",
       " '__new__',\n",
       " '__reduce__',\n",
       " '__reduce_ex__',\n",
       " '__repr__',\n",
       " '__setattr__',\n",
       " '__sizeof__',\n",
       " '__str__',\n",
       " '__subclasshook__',\n",
       " '__weakref__',\n",
       " '_add_inbound_node',\n",
       " '_built',\n",
       " '_constraints',\n",
       " '_get_node_attribute_at_index',\n",
       " '_initial_weights',\n",
       " '_losses',\n",
       " '_non_trainable_weights',\n",
       " '_per_input_losses',\n",
       " '_per_input_updates',\n",
       " '_trainable_weights',\n",
       " '_updates',\n",
       " 'activation',\n",
       " 'activity_regularizer',\n",
       " 'add_loss',\n",
       " 'add_update',\n",
       " 'add_weight',\n",
       " 'assert_input_compatibility',\n",
       " 'bias',\n",
       " 'bias_constraint',\n",
       " 'bias_h',\n",
       " 'bias_initializer',\n",
       " 'bias_r',\n",
       " 'bias_regularizer',\n",
       " 'bias_z',\n",
       " 'build',\n",
       " 'built',\n",
       " 'call',\n",
       " 'compute_mask',\n",
       " 'compute_output_shape',\n",
       " 'constraints',\n",
       " 'count_params',\n",
       " 'dropout',\n",
       " 'from_config',\n",
       " 'get_config',\n",
       " 'get_constants',\n",
       " 'get_initial_states',\n",
       " 'get_input_at',\n",
       " 'get_input_mask_at',\n",
       " 'get_input_shape_at',\n",
       " 'get_losses_for',\n",
       " 'get_output_at',\n",
       " 'get_output_mask_at',\n",
       " 'get_output_shape_at',\n",
       " 'get_updates_for',\n",
       " 'get_weights',\n",
       " 'go_backwards',\n",
       " 'implementation',\n",
       " 'inbound_nodes',\n",
       " 'input',\n",
       " 'input_dim',\n",
       " 'input_mask',\n",
       " 'input_shape',\n",
       " 'input_spec',\n",
       " 'kernel',\n",
       " 'kernel_constraint',\n",
       " 'kernel_h',\n",
       " 'kernel_initializer',\n",
       " 'kernel_r',\n",
       " 'kernel_regularizer',\n",
       " 'kernel_z',\n",
       " 'losses',\n",
       " 'name',\n",
       " 'non_trainable_weights',\n",
       " 'outbound_nodes',\n",
       " 'output',\n",
       " 'output_mask',\n",
       " 'output_shape',\n",
       " 'preprocess_input',\n",
       " 'recurrent_activation',\n",
       " 'recurrent_constraint',\n",
       " 'recurrent_dropout',\n",
       " 'recurrent_initializer',\n",
       " 'recurrent_kernel',\n",
       " 'recurrent_kernel_h',\n",
       " 'recurrent_kernel_r',\n",
       " 'recurrent_kernel_z',\n",
       " 'recurrent_regularizer',\n",
       " 'reset_states',\n",
       " 'return_sequences',\n",
       " 'set_weights',\n",
       " 'state_spec',\n",
       " 'stateful',\n",
       " 'states',\n",
       " 'step',\n",
       " 'supports_masking',\n",
       " 'trainable',\n",
       " 'trainable_weights',\n",
       " 'units',\n",
       " 'unroll',\n",
       " 'updates',\n",
       " 'use_bias',\n",
       " 'weights']"
      ]
     },
     "execution_count": 26,
     "metadata": {},
     "output_type": "execute_result"
    }
   ],
   "source": [
    "dir(model.layers[-3])"
   ]
  },
  {
   "cell_type": "code",
   "execution_count": 27,
   "metadata": {},
   "outputs": [
    {
     "data": {
      "text/plain": [
       "[array([[-0.03883676, -0.19665682,  0.09519399, ..., -0.01679893,\n",
       "         -0.11232486, -0.05320075],\n",
       "        [ 0.10318386,  0.00750141,  0.0877763 , ...,  0.28539926,\n",
       "         -0.26765713,  0.12707934],\n",
       "        [ 0.02139056, -0.20284753, -0.13729262, ...,  0.06997423,\n",
       "         -0.18604344,  0.16012473],\n",
       "        ..., \n",
       "        [-0.29321396,  0.13158584,  0.07120441, ..., -0.27863073,\n",
       "          0.13259968, -0.3381097 ],\n",
       "        [-0.29643059, -0.43796661, -0.38792628, ...,  0.24001566,\n",
       "          0.53937805, -0.31751484],\n",
       "        [-0.15014616,  0.38404396,  0.02415507, ...,  0.11745741,\n",
       "         -0.77597785,  0.13635641]], dtype=float32),\n",
       " array([[ -9.47186053e-01,   1.60324425e-01,   1.57704294e-01, ...,\n",
       "           8.05203021e-02,  -1.34790933e+00,   9.51107025e-01],\n",
       "        [ -1.63089693e-01,  -6.83150172e-01,  -1.21464767e-01, ...,\n",
       "           1.34107387e+00,   1.12605959e-01,  -1.98369956e+00],\n",
       "        [ -2.48719994e-02,  -5.93665354e-02,   9.10036623e-01, ...,\n",
       "          -9.65682745e-01,  -2.36691590e-02,   1.19689929e+00],\n",
       "        ..., \n",
       "        [  3.34802382e-02,  -2.13295710e-03,  -3.05261433e-01, ...,\n",
       "          -6.48637652e-01,  -5.07584751e-01,   1.01835474e-01],\n",
       "        [ -1.28394803e-02,  -1.57841548e-01,  -1.81187227e-01, ...,\n",
       "           3.89531488e-03,  -2.29510665e+00,  -1.27080142e-01],\n",
       "        [  2.61472967e-02,   2.62971848e-01,   1.81499839e-01, ...,\n",
       "          -4.44106430e-01,   5.94553411e-01,  -2.56875682e+00]], dtype=float32),\n",
       " array([ 0.36170045,  0.44522876,  0.51059151,  0.44032633,  0.58562148,\n",
       "         0.58626771,  0.57625389,  0.25094056,  0.51172054,  0.1436536 ,\n",
       "         0.3335728 ,  0.77312475,  0.53322452,  0.24535024,  0.43820554,\n",
       "         0.12111251,  0.47437674,  0.40113062,  0.40148866, -0.05959507,\n",
       "         0.37552214,  0.16756405,  0.69144636,  0.53714883,  0.50102067,\n",
       "         0.21215422,  0.48787761,  0.64442998,  0.54510987,  0.14226449,\n",
       "         0.11426339,  0.65699422, -0.38056296, -0.68901813,  0.0371931 ,\n",
       "        -0.46195725, -0.4460761 , -0.02191511, -0.31551045,  0.00178064,\n",
       "        -0.77995986, -0.16975051, -0.28677347, -0.18488775, -0.70762038,\n",
       "        -0.64967287, -0.96831703, -0.82630455,  0.03227914, -0.47145975,\n",
       "        -0.21370171,  0.23140901, -0.45259494, -0.61124206, -0.87801737,\n",
       "        -0.43418503, -0.44516081, -0.33159947, -0.53306341, -0.83895445,\n",
       "        -0.14709422, -0.4753899 ,  1.05458748,  0.67554086,  0.17065167,\n",
       "         0.0935901 , -0.33412942,  0.01846308, -0.15583698,  0.20059937,\n",
       "         0.21184123,  0.02206996,  0.08638079,  0.34532905, -0.27271429,\n",
       "        -0.03909141, -0.353861  ,  0.17558075, -0.06402573, -0.09718722,\n",
       "         0.08401089, -0.01822751,  0.06800526,  0.19229208,  0.18676616,\n",
       "        -0.08522957,  0.07021043,  0.06671902, -0.07563659,  0.12211337,\n",
       "         0.00319226, -0.19130211, -0.2525962 , -0.29326797, -0.3687928 ,\n",
       "         0.23513682], dtype=float32)]"
      ]
     },
     "execution_count": 27,
     "metadata": {},
     "output_type": "execute_result"
    }
   ],
   "source": [
    "model.layers[-2].get_weights()"
   ]
  },
  {
   "cell_type": "code",
   "execution_count": 28,
   "metadata": {
    "collapsed": true
   },
   "outputs": [],
   "source": [
    "# TODO: print all the different learning phases\n",
    "#print(type(x_1))\n",
    "#print(model.inputs)\n",
    "#print(crnn_out1_f([x_2, x_2]))\n",
    "#print(crnn_out2_f([x_1,x_2]))"
   ]
  },
  {
   "cell_type": "code",
   "execution_count": 29,
   "metadata": {},
   "outputs": [
    {
     "data": {
      "text/plain": [
       "'\\nimport librosa\\nSR = 12000\\nfor i, p in enumerate(pairs_train):\\n    x1, x2, y = p\\n    audio_path1 = \\'/mnt/kahuna/MSD_audio/\\' + msd_to_info[x1][0]\\n    audio_path2 = \\'/mnt/kahuna/MSD_audio/\\' + msd_to_info[x2][0]\\n    src1 = librosa.load(audio_path1, sr=SR)\\n    src2 = librosa.load(audio_path1, sr=SR)\\n    print(np.sum(src1), \"|\", np.sum(src2))\\n    if i >= 10:\\n        break\\n'"
      ]
     },
     "execution_count": 29,
     "metadata": {},
     "output_type": "execute_result"
    }
   ],
   "source": [
    "\"\"\"\n",
    "import librosa\n",
    "SR = 12000\n",
    "for i, p in enumerate(pairs_train):\n",
    "    x1, x2, y = p\n",
    "    audio_path1 = '/mnt/kahuna/MSD_audio/' + msd_to_info[x1][0]\n",
    "    audio_path2 = '/mnt/kahuna/MSD_audio/' + msd_to_info[x2][0]\n",
    "    src1 = librosa.load(audio_path1, sr=SR)\n",
    "    src2 = librosa.load(audio_path1, sr=SR)\n",
    "    print(np.sum(src1), \"|\", np.sum(src2))\n",
    "    if i >= 10:\n",
    "        break\n",
    "\"\"\""
   ]
  },
  {
   "cell_type": "code",
   "execution_count": 30,
   "metadata": {},
   "outputs": [
    {
     "data": {
      "text/plain": [
       "\"\\n# most of the similarities lie close to zero\\nvals = x[0].flatten()\\n#n, bins, patches = plt.hist(sims, 50, normed=1, facecolor='green', alpha=0.75)\\nn, bins, patches = P.hist(vals, 50, normed=1, histtype='stepfilled')\\nP.setp(patches, 'facecolor', 'g', 'alpha', 0.75)\\n\\nP.show()\\n\""
      ]
     },
     "execution_count": 30,
     "metadata": {},
     "output_type": "execute_result"
    }
   ],
   "source": [
    "\"\"\"\n",
    "# most of the similarities lie close to zero\n",
    "vals = x[0].flatten()\n",
    "#n, bins, patches = plt.hist(sims, 50, normed=1, facecolor='green', alpha=0.75)\n",
    "n, bins, patches = P.hist(vals, 50, normed=1, histtype='stepfilled')\n",
    "P.setp(patches, 'facecolor', 'g', 'alpha', 0.75)\n",
    "\n",
    "P.show()\n",
    "\"\"\""
   ]
  },
  {
   "cell_type": "code",
   "execution_count": 31,
   "metadata": {},
   "outputs": [
    {
     "name": "stdout",
     "output_type": "stream",
     "text": [
      "Tensor(\"keras_learning_phase:0\", dtype=bool)\n"
     ]
    }
   ],
   "source": [
    "with tf.Session() as sess:\n",
    "    a = tf.get_default_graph().get_tensor_by_name(\"keras_learning_phase:0\")\n",
    "    print(a)"
   ]
  },
  {
   "cell_type": "code",
   "execution_count": 32,
   "metadata": {},
   "outputs": [
    {
     "name": "stdout",
     "output_type": "stream",
     "text": [
      "tot_count: 0 7.62567105905e-06\n",
      "close: [7.6256710590531969e-06]\n",
      "Epoch 1/1\n"
     ]
    },
    {
     "ename": "InvalidArgumentError",
     "evalue": "You must feed a value for placeholder tensor 'keras_learning_phase' with dtype bool\n\t [[Node: keras_learning_phase = Placeholder[dtype=DT_BOOL, shape=[], _device=\"/job:localhost/replica:0/task:0/cpu:0\"]()]]\n\nCaused by op 'keras_learning_phase', defined at:\n  File \"/usr/lib/python3.5/runpy.py\", line 184, in _run_module_as_main\n    \"__main__\", mod_spec)\n  File \"/usr/lib/python3.5/runpy.py\", line 85, in _run_code\n    exec(code, run_globals)\n  File \"/usr/local/lib/python3.5/dist-packages/ipykernel_launcher.py\", line 16, in <module>\n    app.launch_new_instance()\n  File \"/usr/local/lib/python3.5/dist-packages/traitlets/config/application.py\", line 658, in launch_instance\n    app.start()\n  File \"/usr/local/lib/python3.5/dist-packages/ipykernel/kernelapp.py\", line 477, in start\n    ioloop.IOLoop.instance().start()\n  File \"/usr/local/lib/python3.5/dist-packages/zmq/eventloop/ioloop.py\", line 177, in start\n    super(ZMQIOLoop, self).start()\n  File \"/usr/local/lib/python3.5/dist-packages/tornado/ioloop.py\", line 887, in start\n    handler_func(fd_obj, events)\n  File \"/usr/local/lib/python3.5/dist-packages/tornado/stack_context.py\", line 275, in null_wrapper\n    return fn(*args, **kwargs)\n  File \"/usr/local/lib/python3.5/dist-packages/zmq/eventloop/zmqstream.py\", line 440, in _handle_events\n    self._handle_recv()\n  File \"/usr/local/lib/python3.5/dist-packages/zmq/eventloop/zmqstream.py\", line 472, in _handle_recv\n    self._run_callback(callback, msg)\n  File \"/usr/local/lib/python3.5/dist-packages/zmq/eventloop/zmqstream.py\", line 414, in _run_callback\n    callback(*args, **kwargs)\n  File \"/usr/local/lib/python3.5/dist-packages/tornado/stack_context.py\", line 275, in null_wrapper\n    return fn(*args, **kwargs)\n  File \"/usr/local/lib/python3.5/dist-packages/ipykernel/kernelbase.py\", line 276, in dispatcher\n    return self.dispatch_shell(stream, msg)\n  File \"/usr/local/lib/python3.5/dist-packages/ipykernel/kernelbase.py\", line 228, in dispatch_shell\n    handler(stream, idents, msg)\n  File \"/usr/local/lib/python3.5/dist-packages/ipykernel/kernelbase.py\", line 390, in execute_request\n    user_expressions, allow_stdin)\n  File \"/usr/local/lib/python3.5/dist-packages/ipykernel/ipkernel.py\", line 196, in do_execute\n    res = shell.run_cell(code, store_history=store_history, silent=silent)\n  File \"/usr/local/lib/python3.5/dist-packages/ipykernel/zmqshell.py\", line 533, in run_cell\n    return super(ZMQInteractiveShell, self).run_cell(*args, **kwargs)\n  File \"/usr/local/lib/python3.5/dist-packages/IPython/core/interactiveshell.py\", line 2717, in run_cell\n    interactivity=interactivity, compiler=compiler, result=result)\n  File \"/usr/local/lib/python3.5/dist-packages/IPython/core/interactiveshell.py\", line 2827, in run_ast_nodes\n    if self.run_code(code, result):\n  File \"/usr/local/lib/python3.5/dist-packages/IPython/core/interactiveshell.py\", line 2881, in run_code\n    exec(code_obj, self.user_global_ns, self.user_ns)\n  File \"<ipython-input-2-0ddc4c46da91>\", line 1, in <module>\n    K.learning_phase()\n  File \"/usr/local/lib/python3.5/dist-packages/keras/backend/tensorflow_backend.py\", line 106, in learning_phase\n    name='keras_learning_phase')\n  File \"/home/henry/.local/lib/python3.5/site-packages/tensorflow/python/ops/array_ops.py\", line 1502, in placeholder\n    name=name)\n  File \"/home/henry/.local/lib/python3.5/site-packages/tensorflow/python/ops/gen_array_ops.py\", line 2149, in _placeholder\n    name=name)\n  File \"/home/henry/.local/lib/python3.5/site-packages/tensorflow/python/framework/op_def_library.py\", line 763, in apply_op\n    op_def=op_def)\n  File \"/home/henry/.local/lib/python3.5/site-packages/tensorflow/python/framework/ops.py\", line 2327, in create_op\n    original_op=self._default_original_op, op_def=op_def)\n  File \"/home/henry/.local/lib/python3.5/site-packages/tensorflow/python/framework/ops.py\", line 1226, in __init__\n    self._traceback = _extract_stack()\n\nInvalidArgumentError (see above for traceback): You must feed a value for placeholder tensor 'keras_learning_phase' with dtype bool\n\t [[Node: keras_learning_phase = Placeholder[dtype=DT_BOOL, shape=[], _device=\"/job:localhost/replica:0/task:0/cpu:0\"]()]]\n",
     "output_type": "error",
     "traceback": [
      "\u001b[0;31m---------------------------------------------------------------------------\u001b[0m",
      "\u001b[0;31mInvalidArgumentError\u001b[0m                      Traceback (most recent call last)",
      "\u001b[0;32m/home/henry/.local/lib/python3.5/site-packages/tensorflow/python/client/session.py\u001b[0m in \u001b[0;36m_do_call\u001b[0;34m(self, fn, *args)\u001b[0m\n\u001b[1;32m   1021\u001b[0m     \u001b[0;32mtry\u001b[0m\u001b[0;34m:\u001b[0m\u001b[0;34m\u001b[0m\u001b[0m\n\u001b[0;32m-> 1022\u001b[0;31m       \u001b[0;32mreturn\u001b[0m \u001b[0mfn\u001b[0m\u001b[0;34m(\u001b[0m\u001b[0;34m*\u001b[0m\u001b[0margs\u001b[0m\u001b[0;34m)\u001b[0m\u001b[0;34m\u001b[0m\u001b[0m\n\u001b[0m\u001b[1;32m   1023\u001b[0m     \u001b[0;32mexcept\u001b[0m \u001b[0merrors\u001b[0m\u001b[0;34m.\u001b[0m\u001b[0mOpError\u001b[0m \u001b[0;32mas\u001b[0m \u001b[0me\u001b[0m\u001b[0;34m:\u001b[0m\u001b[0;34m\u001b[0m\u001b[0m\n",
      "\u001b[0;32m/home/henry/.local/lib/python3.5/site-packages/tensorflow/python/client/session.py\u001b[0m in \u001b[0;36m_run_fn\u001b[0;34m(session, feed_dict, fetch_list, target_list, options, run_metadata)\u001b[0m\n\u001b[1;32m   1003\u001b[0m                                  \u001b[0mfeed_dict\u001b[0m\u001b[0;34m,\u001b[0m \u001b[0mfetch_list\u001b[0m\u001b[0;34m,\u001b[0m \u001b[0mtarget_list\u001b[0m\u001b[0;34m,\u001b[0m\u001b[0;34m\u001b[0m\u001b[0m\n\u001b[0;32m-> 1004\u001b[0;31m                                  status, run_metadata)\n\u001b[0m\u001b[1;32m   1005\u001b[0m \u001b[0;34m\u001b[0m\u001b[0m\n",
      "\u001b[0;32m/usr/lib/python3.5/contextlib.py\u001b[0m in \u001b[0;36m__exit__\u001b[0;34m(self, type, value, traceback)\u001b[0m\n\u001b[1;32m     65\u001b[0m             \u001b[0;32mtry\u001b[0m\u001b[0;34m:\u001b[0m\u001b[0;34m\u001b[0m\u001b[0m\n\u001b[0;32m---> 66\u001b[0;31m                 \u001b[0mnext\u001b[0m\u001b[0;34m(\u001b[0m\u001b[0mself\u001b[0m\u001b[0;34m.\u001b[0m\u001b[0mgen\u001b[0m\u001b[0;34m)\u001b[0m\u001b[0;34m\u001b[0m\u001b[0m\n\u001b[0m\u001b[1;32m     67\u001b[0m             \u001b[0;32mexcept\u001b[0m \u001b[0mStopIteration\u001b[0m\u001b[0;34m:\u001b[0m\u001b[0;34m\u001b[0m\u001b[0m\n",
      "\u001b[0;32m/home/henry/.local/lib/python3.5/site-packages/tensorflow/python/framework/errors_impl.py\u001b[0m in \u001b[0;36mraise_exception_on_not_ok_status\u001b[0;34m()\u001b[0m\n\u001b[1;32m    465\u001b[0m           \u001b[0mcompat\u001b[0m\u001b[0;34m.\u001b[0m\u001b[0mas_text\u001b[0m\u001b[0;34m(\u001b[0m\u001b[0mpywrap_tensorflow\u001b[0m\u001b[0;34m.\u001b[0m\u001b[0mTF_Message\u001b[0m\u001b[0;34m(\u001b[0m\u001b[0mstatus\u001b[0m\u001b[0;34m)\u001b[0m\u001b[0;34m)\u001b[0m\u001b[0;34m,\u001b[0m\u001b[0;34m\u001b[0m\u001b[0m\n\u001b[0;32m--> 466\u001b[0;31m           pywrap_tensorflow.TF_GetCode(status))\n\u001b[0m\u001b[1;32m    467\u001b[0m   \u001b[0;32mfinally\u001b[0m\u001b[0;34m:\u001b[0m\u001b[0;34m\u001b[0m\u001b[0m\n",
      "\u001b[0;31mInvalidArgumentError\u001b[0m: You must feed a value for placeholder tensor 'keras_learning_phase' with dtype bool\n\t [[Node: keras_learning_phase = Placeholder[dtype=DT_BOOL, shape=[], _device=\"/job:localhost/replica:0/task:0/cpu:0\"]()]]",
      "\nDuring handling of the above exception, another exception occurred:\n",
      "\u001b[0;31mInvalidArgumentError\u001b[0m                      Traceback (most recent call last)",
      "\u001b[0;32m<ipython-input-32-77110df798f1>\u001b[0m in \u001b[0;36m<module>\u001b[0;34m()\u001b[0m\n\u001b[1;32m      7\u001b[0m     \u001b[0mprev_weights2\u001b[0m \u001b[0;34m=\u001b[0m \u001b[0mmodel\u001b[0m\u001b[0;34m.\u001b[0m\u001b[0mlayers\u001b[0m\u001b[0;34m[\u001b[0m\u001b[0;34m-\u001b[0m\u001b[0;36m2\u001b[0m\u001b[0;34m]\u001b[0m\u001b[0;34m.\u001b[0m\u001b[0mget_weights\u001b[0m\u001b[0;34m(\u001b[0m\u001b[0;34m)\u001b[0m\u001b[0;34m\u001b[0m\u001b[0m\n\u001b[1;32m      8\u001b[0m     \u001b[0mprev_weights3\u001b[0m \u001b[0;34m=\u001b[0m \u001b[0mmodel\u001b[0m\u001b[0;34m.\u001b[0m\u001b[0mlayers\u001b[0m\u001b[0;34m[\u001b[0m\u001b[0;34m-\u001b[0m\u001b[0;36m3\u001b[0m\u001b[0;34m]\u001b[0m\u001b[0;34m.\u001b[0m\u001b[0mget_weights\u001b[0m\u001b[0;34m(\u001b[0m\u001b[0;34m)\u001b[0m\u001b[0;34m\u001b[0m\u001b[0m\n\u001b[0;32m----> 9\u001b[0;31m     \u001b[0mmodel\u001b[0m\u001b[0;34m.\u001b[0m\u001b[0mfit\u001b[0m\u001b[0;34m(\u001b[0m\u001b[0mx\u001b[0m\u001b[0;34m,\u001b[0m \u001b[0my\u001b[0m\u001b[0;34m,\u001b[0m \u001b[0mbatch_size\u001b[0m\u001b[0;34m=\u001b[0m\u001b[0;36m1\u001b[0m\u001b[0;34m,\u001b[0m \u001b[0mepochs\u001b[0m\u001b[0;34m=\u001b[0m\u001b[0;36m1\u001b[0m\u001b[0;34m,\u001b[0m \u001b[0mverbose\u001b[0m\u001b[0;34m=\u001b[0m\u001b[0;36m1\u001b[0m\u001b[0;34m)\u001b[0m\u001b[0;34m\u001b[0m\u001b[0m\n\u001b[0m\u001b[1;32m     10\u001b[0m     \u001b[0;31m#print(\"loop num:\", count, x)\u001b[0m\u001b[0;34m\u001b[0m\u001b[0;34m\u001b[0m\u001b[0m\n\u001b[1;32m     11\u001b[0m     \u001b[0;32mfor\u001b[0m \u001b[0mw\u001b[0m \u001b[0;32min\u001b[0m \u001b[0mmodel\u001b[0m\u001b[0;34m.\u001b[0m\u001b[0mlayers\u001b[0m\u001b[0;34m[\u001b[0m\u001b[0;34m-\u001b[0m\u001b[0;36m2\u001b[0m\u001b[0;34m]\u001b[0m\u001b[0;34m.\u001b[0m\u001b[0mget_weights\u001b[0m\u001b[0;34m(\u001b[0m\u001b[0;34m)\u001b[0m\u001b[0;34m:\u001b[0m\u001b[0;34m\u001b[0m\u001b[0m\n",
      "\u001b[0;32m/usr/local/lib/python3.5/dist-packages/keras/engine/training.py\u001b[0m in \u001b[0;36mfit\u001b[0;34m(self, x, y, batch_size, epochs, verbose, callbacks, validation_split, validation_data, shuffle, class_weight, sample_weight, initial_epoch, **kwargs)\u001b[0m\n\u001b[1;32m   1484\u001b[0m                               \u001b[0mval_f\u001b[0m\u001b[0;34m=\u001b[0m\u001b[0mval_f\u001b[0m\u001b[0;34m,\u001b[0m \u001b[0mval_ins\u001b[0m\u001b[0;34m=\u001b[0m\u001b[0mval_ins\u001b[0m\u001b[0;34m,\u001b[0m \u001b[0mshuffle\u001b[0m\u001b[0;34m=\u001b[0m\u001b[0mshuffle\u001b[0m\u001b[0;34m,\u001b[0m\u001b[0;34m\u001b[0m\u001b[0m\n\u001b[1;32m   1485\u001b[0m                               \u001b[0mcallback_metrics\u001b[0m\u001b[0;34m=\u001b[0m\u001b[0mcallback_metrics\u001b[0m\u001b[0;34m,\u001b[0m\u001b[0;34m\u001b[0m\u001b[0m\n\u001b[0;32m-> 1486\u001b[0;31m                               initial_epoch=initial_epoch)\n\u001b[0m\u001b[1;32m   1487\u001b[0m \u001b[0;34m\u001b[0m\u001b[0m\n\u001b[1;32m   1488\u001b[0m     \u001b[0;32mdef\u001b[0m \u001b[0mevaluate\u001b[0m\u001b[0;34m(\u001b[0m\u001b[0mself\u001b[0m\u001b[0;34m,\u001b[0m \u001b[0mx\u001b[0m\u001b[0;34m,\u001b[0m \u001b[0my\u001b[0m\u001b[0;34m,\u001b[0m \u001b[0mbatch_size\u001b[0m\u001b[0;34m=\u001b[0m\u001b[0;36m32\u001b[0m\u001b[0;34m,\u001b[0m \u001b[0mverbose\u001b[0m\u001b[0;34m=\u001b[0m\u001b[0;36m1\u001b[0m\u001b[0;34m,\u001b[0m \u001b[0msample_weight\u001b[0m\u001b[0;34m=\u001b[0m\u001b[0;32mNone\u001b[0m\u001b[0;34m)\u001b[0m\u001b[0;34m:\u001b[0m\u001b[0;34m\u001b[0m\u001b[0m\n",
      "\u001b[0;32m/usr/local/lib/python3.5/dist-packages/keras/engine/training.py\u001b[0m in \u001b[0;36m_fit_loop\u001b[0;34m(self, f, ins, out_labels, batch_size, epochs, verbose, callbacks, val_f, val_ins, shuffle, callback_metrics, initial_epoch)\u001b[0m\n\u001b[1;32m   1139\u001b[0m                 \u001b[0mbatch_logs\u001b[0m\u001b[0;34m[\u001b[0m\u001b[0;34m'size'\u001b[0m\u001b[0;34m]\u001b[0m \u001b[0;34m=\u001b[0m \u001b[0mlen\u001b[0m\u001b[0;34m(\u001b[0m\u001b[0mbatch_ids\u001b[0m\u001b[0;34m)\u001b[0m\u001b[0;34m\u001b[0m\u001b[0m\n\u001b[1;32m   1140\u001b[0m                 \u001b[0mcallbacks\u001b[0m\u001b[0;34m.\u001b[0m\u001b[0mon_batch_begin\u001b[0m\u001b[0;34m(\u001b[0m\u001b[0mbatch_index\u001b[0m\u001b[0;34m,\u001b[0m \u001b[0mbatch_logs\u001b[0m\u001b[0;34m)\u001b[0m\u001b[0;34m\u001b[0m\u001b[0m\n\u001b[0;32m-> 1141\u001b[0;31m                 \u001b[0mouts\u001b[0m \u001b[0;34m=\u001b[0m \u001b[0mf\u001b[0m\u001b[0;34m(\u001b[0m\u001b[0mins_batch\u001b[0m\u001b[0;34m)\u001b[0m\u001b[0;34m\u001b[0m\u001b[0m\n\u001b[0m\u001b[1;32m   1142\u001b[0m                 \u001b[0;32mif\u001b[0m \u001b[0;32mnot\u001b[0m \u001b[0misinstance\u001b[0m\u001b[0;34m(\u001b[0m\u001b[0mouts\u001b[0m\u001b[0;34m,\u001b[0m \u001b[0mlist\u001b[0m\u001b[0;34m)\u001b[0m\u001b[0;34m:\u001b[0m\u001b[0;34m\u001b[0m\u001b[0m\n\u001b[1;32m   1143\u001b[0m                     \u001b[0mouts\u001b[0m \u001b[0;34m=\u001b[0m \u001b[0;34m[\u001b[0m\u001b[0mouts\u001b[0m\u001b[0;34m]\u001b[0m\u001b[0;34m\u001b[0m\u001b[0m\n",
      "\u001b[0;32m/usr/local/lib/python3.5/dist-packages/keras/backend/tensorflow_backend.py\u001b[0m in \u001b[0;36m__call__\u001b[0;34m(self, inputs)\u001b[0m\n\u001b[1;32m   2106\u001b[0m         \u001b[0;32mwith\u001b[0m \u001b[0msession\u001b[0m\u001b[0;34m.\u001b[0m\u001b[0mas_default\u001b[0m\u001b[0;34m(\u001b[0m\u001b[0;34m)\u001b[0m\u001b[0;34m:\u001b[0m\u001b[0;34m\u001b[0m\u001b[0m\n\u001b[1;32m   2107\u001b[0m           \u001b[0ma\u001b[0m \u001b[0;34m=\u001b[0m \u001b[0mtf\u001b[0m\u001b[0;34m.\u001b[0m\u001b[0mget_default_graph\u001b[0m\u001b[0;34m(\u001b[0m\u001b[0;34m)\u001b[0m\u001b[0;34m.\u001b[0m\u001b[0mget_tensor_by_name\u001b[0m\u001b[0;34m(\u001b[0m\u001b[0;34m\"keras_learning_phase:0\"\u001b[0m\u001b[0;34m)\u001b[0m\u001b[0;34m\u001b[0m\u001b[0m\n\u001b[0;32m-> 2108\u001b[0;31m           \u001b[0mprint\u001b[0m\u001b[0;34m(\u001b[0m\u001b[0ma\u001b[0m\u001b[0;34m.\u001b[0m\u001b[0meval\u001b[0m\u001b[0;34m(\u001b[0m\u001b[0;34m)\u001b[0m\u001b[0;34m)\u001b[0m\u001b[0;34m\u001b[0m\u001b[0m\n\u001b[0m\u001b[1;32m   2109\u001b[0m         \u001b[0;31m#print(\"henry keras debugging:\", self.outputs, self.updates_op, feed_dict)\u001b[0m\u001b[0;34m\u001b[0m\u001b[0;34m\u001b[0m\u001b[0m\n\u001b[1;32m   2110\u001b[0m         \u001b[0;31m#print([henry_x for henry_x in feed_dict.items() if type(henry_x).contains('tensor') and henry_x.name == 'keras_learning_phase:0'][0])\u001b[0m\u001b[0;34m\u001b[0m\u001b[0;34m\u001b[0m\u001b[0m\n",
      "\u001b[0;32m/home/henry/.local/lib/python3.5/site-packages/tensorflow/python/framework/ops.py\u001b[0m in \u001b[0;36meval\u001b[0;34m(self, feed_dict, session)\u001b[0m\n\u001b[1;32m    565\u001b[0m \u001b[0;34m\u001b[0m\u001b[0m\n\u001b[1;32m    566\u001b[0m     \"\"\"\n\u001b[0;32m--> 567\u001b[0;31m     \u001b[0;32mreturn\u001b[0m \u001b[0m_eval_using_default_session\u001b[0m\u001b[0;34m(\u001b[0m\u001b[0mself\u001b[0m\u001b[0;34m,\u001b[0m \u001b[0mfeed_dict\u001b[0m\u001b[0;34m,\u001b[0m \u001b[0mself\u001b[0m\u001b[0;34m.\u001b[0m\u001b[0mgraph\u001b[0m\u001b[0;34m,\u001b[0m \u001b[0msession\u001b[0m\u001b[0;34m)\u001b[0m\u001b[0;34m\u001b[0m\u001b[0m\n\u001b[0m\u001b[1;32m    568\u001b[0m \u001b[0;34m\u001b[0m\u001b[0m\n\u001b[1;32m    569\u001b[0m \u001b[0;34m\u001b[0m\u001b[0m\n",
      "\u001b[0;32m/home/henry/.local/lib/python3.5/site-packages/tensorflow/python/framework/ops.py\u001b[0m in \u001b[0;36m_eval_using_default_session\u001b[0;34m(tensors, feed_dict, graph, session)\u001b[0m\n\u001b[1;32m   3729\u001b[0m                        \u001b[0;34m\"the tensor's graph is different from the session's \"\u001b[0m\u001b[0;34m\u001b[0m\u001b[0m\n\u001b[1;32m   3730\u001b[0m                        \"graph.\")\n\u001b[0;32m-> 3731\u001b[0;31m   \u001b[0;32mreturn\u001b[0m \u001b[0msession\u001b[0m\u001b[0;34m.\u001b[0m\u001b[0mrun\u001b[0m\u001b[0;34m(\u001b[0m\u001b[0mtensors\u001b[0m\u001b[0;34m,\u001b[0m \u001b[0mfeed_dict\u001b[0m\u001b[0;34m)\u001b[0m\u001b[0;34m\u001b[0m\u001b[0m\n\u001b[0m\u001b[1;32m   3732\u001b[0m \u001b[0;34m\u001b[0m\u001b[0m\n\u001b[1;32m   3733\u001b[0m \u001b[0;34m\u001b[0m\u001b[0m\n",
      "\u001b[0;32m/home/henry/.local/lib/python3.5/site-packages/tensorflow/python/client/session.py\u001b[0m in \u001b[0;36mrun\u001b[0;34m(self, fetches, feed_dict, options, run_metadata)\u001b[0m\n\u001b[1;32m    765\u001b[0m     \u001b[0;32mtry\u001b[0m\u001b[0;34m:\u001b[0m\u001b[0;34m\u001b[0m\u001b[0m\n\u001b[1;32m    766\u001b[0m       result = self._run(None, fetches, feed_dict, options_ptr,\n\u001b[0;32m--> 767\u001b[0;31m                          run_metadata_ptr)\n\u001b[0m\u001b[1;32m    768\u001b[0m       \u001b[0;32mif\u001b[0m \u001b[0mrun_metadata\u001b[0m\u001b[0;34m:\u001b[0m\u001b[0;34m\u001b[0m\u001b[0m\n\u001b[1;32m    769\u001b[0m         \u001b[0mproto_data\u001b[0m \u001b[0;34m=\u001b[0m \u001b[0mtf_session\u001b[0m\u001b[0;34m.\u001b[0m\u001b[0mTF_GetBuffer\u001b[0m\u001b[0;34m(\u001b[0m\u001b[0mrun_metadata_ptr\u001b[0m\u001b[0;34m)\u001b[0m\u001b[0;34m\u001b[0m\u001b[0m\n",
      "\u001b[0;32m/home/henry/.local/lib/python3.5/site-packages/tensorflow/python/client/session.py\u001b[0m in \u001b[0;36m_run\u001b[0;34m(self, handle, fetches, feed_dict, options, run_metadata)\u001b[0m\n\u001b[1;32m    963\u001b[0m     \u001b[0;32mif\u001b[0m \u001b[0mfinal_fetches\u001b[0m \u001b[0;32mor\u001b[0m \u001b[0mfinal_targets\u001b[0m\u001b[0;34m:\u001b[0m\u001b[0;34m\u001b[0m\u001b[0m\n\u001b[1;32m    964\u001b[0m       results = self._do_run(handle, final_targets, final_fetches,\n\u001b[0;32m--> 965\u001b[0;31m                              feed_dict_string, options, run_metadata)\n\u001b[0m\u001b[1;32m    966\u001b[0m     \u001b[0;32melse\u001b[0m\u001b[0;34m:\u001b[0m\u001b[0;34m\u001b[0m\u001b[0m\n\u001b[1;32m    967\u001b[0m       \u001b[0mresults\u001b[0m \u001b[0;34m=\u001b[0m \u001b[0;34m[\u001b[0m\u001b[0;34m]\u001b[0m\u001b[0;34m\u001b[0m\u001b[0m\n",
      "\u001b[0;32m/home/henry/.local/lib/python3.5/site-packages/tensorflow/python/client/session.py\u001b[0m in \u001b[0;36m_do_run\u001b[0;34m(self, handle, target_list, fetch_list, feed_dict, options, run_metadata)\u001b[0m\n\u001b[1;32m   1013\u001b[0m     \u001b[0;32mif\u001b[0m \u001b[0mhandle\u001b[0m \u001b[0;32mis\u001b[0m \u001b[0;32mNone\u001b[0m\u001b[0;34m:\u001b[0m\u001b[0;34m\u001b[0m\u001b[0m\n\u001b[1;32m   1014\u001b[0m       return self._do_call(_run_fn, self._session, feed_dict, fetch_list,\n\u001b[0;32m-> 1015\u001b[0;31m                            target_list, options, run_metadata)\n\u001b[0m\u001b[1;32m   1016\u001b[0m     \u001b[0;32melse\u001b[0m\u001b[0;34m:\u001b[0m\u001b[0;34m\u001b[0m\u001b[0m\n\u001b[1;32m   1017\u001b[0m       return self._do_call(_prun_fn, self._session, handle, feed_dict,\n",
      "\u001b[0;32m/home/henry/.local/lib/python3.5/site-packages/tensorflow/python/client/session.py\u001b[0m in \u001b[0;36m_do_call\u001b[0;34m(self, fn, *args)\u001b[0m\n\u001b[1;32m   1033\u001b[0m         \u001b[0;32mexcept\u001b[0m \u001b[0mKeyError\u001b[0m\u001b[0;34m:\u001b[0m\u001b[0;34m\u001b[0m\u001b[0m\n\u001b[1;32m   1034\u001b[0m           \u001b[0;32mpass\u001b[0m\u001b[0;34m\u001b[0m\u001b[0m\n\u001b[0;32m-> 1035\u001b[0;31m       \u001b[0;32mraise\u001b[0m \u001b[0mtype\u001b[0m\u001b[0;34m(\u001b[0m\u001b[0me\u001b[0m\u001b[0;34m)\u001b[0m\u001b[0;34m(\u001b[0m\u001b[0mnode_def\u001b[0m\u001b[0;34m,\u001b[0m \u001b[0mop\u001b[0m\u001b[0;34m,\u001b[0m \u001b[0mmessage\u001b[0m\u001b[0;34m)\u001b[0m\u001b[0;34m\u001b[0m\u001b[0m\n\u001b[0m\u001b[1;32m   1036\u001b[0m \u001b[0;34m\u001b[0m\u001b[0m\n\u001b[1;32m   1037\u001b[0m   \u001b[0;32mdef\u001b[0m \u001b[0m_extend_graph\u001b[0m\u001b[0;34m(\u001b[0m\u001b[0mself\u001b[0m\u001b[0;34m)\u001b[0m\u001b[0;34m:\u001b[0m\u001b[0;34m\u001b[0m\u001b[0m\n",
      "\u001b[0;31mInvalidArgumentError\u001b[0m: You must feed a value for placeholder tensor 'keras_learning_phase' with dtype bool\n\t [[Node: keras_learning_phase = Placeholder[dtype=DT_BOOL, shape=[], _device=\"/job:localhost/replica:0/task:0/cpu:0\"]()]]\n\nCaused by op 'keras_learning_phase', defined at:\n  File \"/usr/lib/python3.5/runpy.py\", line 184, in _run_module_as_main\n    \"__main__\", mod_spec)\n  File \"/usr/lib/python3.5/runpy.py\", line 85, in _run_code\n    exec(code, run_globals)\n  File \"/usr/local/lib/python3.5/dist-packages/ipykernel_launcher.py\", line 16, in <module>\n    app.launch_new_instance()\n  File \"/usr/local/lib/python3.5/dist-packages/traitlets/config/application.py\", line 658, in launch_instance\n    app.start()\n  File \"/usr/local/lib/python3.5/dist-packages/ipykernel/kernelapp.py\", line 477, in start\n    ioloop.IOLoop.instance().start()\n  File \"/usr/local/lib/python3.5/dist-packages/zmq/eventloop/ioloop.py\", line 177, in start\n    super(ZMQIOLoop, self).start()\n  File \"/usr/local/lib/python3.5/dist-packages/tornado/ioloop.py\", line 887, in start\n    handler_func(fd_obj, events)\n  File \"/usr/local/lib/python3.5/dist-packages/tornado/stack_context.py\", line 275, in null_wrapper\n    return fn(*args, **kwargs)\n  File \"/usr/local/lib/python3.5/dist-packages/zmq/eventloop/zmqstream.py\", line 440, in _handle_events\n    self._handle_recv()\n  File \"/usr/local/lib/python3.5/dist-packages/zmq/eventloop/zmqstream.py\", line 472, in _handle_recv\n    self._run_callback(callback, msg)\n  File \"/usr/local/lib/python3.5/dist-packages/zmq/eventloop/zmqstream.py\", line 414, in _run_callback\n    callback(*args, **kwargs)\n  File \"/usr/local/lib/python3.5/dist-packages/tornado/stack_context.py\", line 275, in null_wrapper\n    return fn(*args, **kwargs)\n  File \"/usr/local/lib/python3.5/dist-packages/ipykernel/kernelbase.py\", line 276, in dispatcher\n    return self.dispatch_shell(stream, msg)\n  File \"/usr/local/lib/python3.5/dist-packages/ipykernel/kernelbase.py\", line 228, in dispatch_shell\n    handler(stream, idents, msg)\n  File \"/usr/local/lib/python3.5/dist-packages/ipykernel/kernelbase.py\", line 390, in execute_request\n    user_expressions, allow_stdin)\n  File \"/usr/local/lib/python3.5/dist-packages/ipykernel/ipkernel.py\", line 196, in do_execute\n    res = shell.run_cell(code, store_history=store_history, silent=silent)\n  File \"/usr/local/lib/python3.5/dist-packages/ipykernel/zmqshell.py\", line 533, in run_cell\n    return super(ZMQInteractiveShell, self).run_cell(*args, **kwargs)\n  File \"/usr/local/lib/python3.5/dist-packages/IPython/core/interactiveshell.py\", line 2717, in run_cell\n    interactivity=interactivity, compiler=compiler, result=result)\n  File \"/usr/local/lib/python3.5/dist-packages/IPython/core/interactiveshell.py\", line 2827, in run_ast_nodes\n    if self.run_code(code, result):\n  File \"/usr/local/lib/python3.5/dist-packages/IPython/core/interactiveshell.py\", line 2881, in run_code\n    exec(code_obj, self.user_global_ns, self.user_ns)\n  File \"<ipython-input-2-0ddc4c46da91>\", line 1, in <module>\n    K.learning_phase()\n  File \"/usr/local/lib/python3.5/dist-packages/keras/backend/tensorflow_backend.py\", line 106, in learning_phase\n    name='keras_learning_phase')\n  File \"/home/henry/.local/lib/python3.5/site-packages/tensorflow/python/ops/array_ops.py\", line 1502, in placeholder\n    name=name)\n  File \"/home/henry/.local/lib/python3.5/site-packages/tensorflow/python/ops/gen_array_ops.py\", line 2149, in _placeholder\n    name=name)\n  File \"/home/henry/.local/lib/python3.5/site-packages/tensorflow/python/framework/op_def_library.py\", line 763, in apply_op\n    op_def=op_def)\n  File \"/home/henry/.local/lib/python3.5/site-packages/tensorflow/python/framework/ops.py\", line 2327, in create_op\n    original_op=self._default_original_op, op_def=op_def)\n  File \"/home/henry/.local/lib/python3.5/site-packages/tensorflow/python/framework/ops.py\", line 1226, in __init__\n    self._traceback = _extract_stack()\n\nInvalidArgumentError (see above for traceback): You must feed a value for placeholder tensor 'keras_learning_phase' with dtype bool\n\t [[Node: keras_learning_phase = Placeholder[dtype=DT_BOOL, shape=[], _device=\"/job:localhost/replica:0/task:0/cpu:0\"]()]]\n"
     ]
    }
   ],
   "source": [
    "# debug nans\n",
    "keep_looping = True\n",
    "count = 0\n",
    "for x, y in generate_samples(pairs_train, 1):\n",
    "    print(\"close:\", [np.sum(np.isclose(x1,x2))/np.product(x1.shape) for x1,x2 in zip(x[0], x[1])])\n",
    "    prev_input = [x,y]\n",
    "    prev_weights2 = model.layers[-2].get_weights()\n",
    "    prev_weights3 = model.layers[-3].get_weights()\n",
    "    model.fit(x, y, batch_size=1, epochs=1, verbose=1)\n",
    "    #print(\"loop num:\", count, x)\n",
    "    for w in model.layers[-2].get_weights():\n",
    "        if np.sum(np.isnan(w)) > 0:\n",
    "            keep_looping = False\n",
    "            break\n",
    "    if keep_looping == False:\n",
    "        break\n",
    "    for w in model.layers[-3].get_weights():\n",
    "        if np.sum(np.isnan(w)) > 0:\n",
    "            keep_looping = False\n",
    "            break\n",
    "    if keep_looping == False:\n",
    "        break\n",
    "    count += 1"
   ]
  },
  {
   "cell_type": "code",
   "execution_count": null,
   "metadata": {
    "collapsed": true
   },
   "outputs": [],
   "source": [
    "for w in model.layers[-2].get_weights():\n",
    "    if np.sum(np.isnan(w)) > 0:\n",
    "        print(\"isnan\")\n",
    "        break\n",
    "else:\n",
    "    for x, y in generate_samples(pairs_test, 32):\n",
    "        break\n",
    "    ret11 = model.evaluate(x, y, batch_size=32, verbose=1, sample_weight=None)\n",
    "    ret12 = model.predict(x)\n",
    "    for x, y in generate_samples(pairs_train, 32):\n",
    "        break\n",
    "    ret21 = model.evaluate(x, y, batch_size=32, verbose=1, sample_weight=None)\n",
    "    ret22 = model.predict(x)\n",
    "    ret12"
   ]
  },
  {
   "cell_type": "code",
   "execution_count": null,
   "metadata": {
    "collapsed": true
   },
   "outputs": [],
   "source": [
    "x,y = prev_input\n",
    "print(y)\n",
    "print(np.product(x[0].shape))\n",
    "[np.sum(np.isclose(x1,x2))/np.product(x1.shape) for x1,x2 in zip(x[0], x[1])]"
   ]
  },
  {
   "cell_type": "code",
   "execution_count": null,
   "metadata": {
    "collapsed": true
   },
   "outputs": [],
   "source": [
    "print(np.std(x[0]))\n",
    "print(np.std(x[1]))"
   ]
  },
  {
   "cell_type": "code",
   "execution_count": null,
   "metadata": {
    "collapsed": true
   },
   "outputs": [],
   "source": [
    "print(x[0])\n",
    "print(x[1])"
   ]
  },
  {
   "cell_type": "code",
   "execution_count": null,
   "metadata": {
    "collapsed": true
   },
   "outputs": [],
   "source": [
    "model.layers[-2].get_weights()"
   ]
  },
  {
   "cell_type": "code",
   "execution_count": null,
   "metadata": {
    "collapsed": true
   },
   "outputs": [],
   "source": [
    "model.layers[-3].get_weights()"
   ]
  },
  {
   "cell_type": "code",
   "execution_count": null,
   "metadata": {
    "collapsed": true
   },
   "outputs": [],
   "source": [
    "x, y = prev_input\n",
    "print(np.argwhere(np.isnan(x[0])))\n",
    "print(np.sum(np.isnan(x[0])))\n",
    "print(np.sum(np.isnan(x[1])))"
   ]
  },
  {
   "cell_type": "code",
   "execution_count": null,
   "metadata": {
    "collapsed": true,
    "scrolled": true
   },
   "outputs": [],
   "source": [
    "len(np.argwhere(np.isnan(x[0])))"
   ]
  },
  {
   "cell_type": "code",
   "execution_count": null,
   "metadata": {
    "collapsed": true
   },
   "outputs": [],
   "source": [
    "print(\"test 1\")\n",
    "for elem in x:\n",
    "    if np.sum(elem) > 0:\n",
    "        print(np.sum(elem))\n",
    "\n",
    "print(\"test 2\")\n",
    "for i in range(x[0].shape[0]):\n",
    "    if np.sum(np.isclose(x[0][i,...], x[1][i,...])):\n",
    "        print(i)"
   ]
  },
  {
   "cell_type": "code",
   "execution_count": null,
   "metadata": {
    "collapsed": true
   },
   "outputs": [],
   "source": [
    "from keras.backend import tensorflow_backend\n",
    "print(tensorflow_backend._GRAPH_LEARNING_PHASES)\n",
    "#global _GRAPH_LEARNING_PHASES\n",
    "tensorflow_backend._GRAPH_LEARNING_PHASES[tf.get_default_graph()] = True\n",
    "tensorflow_backend._GRAPH_LEARNING_PHASES[tf.get_default_graph()]"
   ]
  },
  {
   "cell_type": "code",
   "execution_count": null,
   "metadata": {
    "collapsed": true
   },
   "outputs": [],
   "source": [
    "model.layers[0].inbound_nodes[0].output_tensors"
   ]
  },
  {
   "cell_type": "code",
   "execution_count": null,
   "metadata": {
    "collapsed": true
   },
   "outputs": [],
   "source": [
    "#with tf.Session() as sess:\n",
    "with sess.as_default():\n",
    "    a = tf.get_default_graph().get_tensor_by_name(\"keras_learning_phase:0\")\n",
    "    print(a.eval())"
   ]
  },
  {
   "cell_type": "code",
   "execution_count": null,
   "metadata": {
    "collapsed": true
   },
   "outputs": [],
   "source": [
    "prev_learning_phase = K.learning_phase()\n",
    "K.set_learning_phase(False)\n",
    "x, y = prev_input\n",
    "model.layers[-2].set_weights(prev_weights2)\n",
    "model.layers[-3].set_weights(prev_weights3)\n",
    "dist = model.predict(x)\n",
    "crnn_out1 = crnn_out1_f(x)\n",
    "crnn_out2 = crnn_out2_f(x)\n",
    "loss = contrastive_loss(y, dist)\n",
    "inputs = [x[0][0,:].reshape(1,96,1366,1),\n",
    "          x[1][0,:].reshape(1,96,1366,1), # X\n",
    "          [1], # sample weights\n",
    "          #y[0].reshape(-1,1), # y\n",
    "          np.asarray([[1]]).reshape(-1,1),\n",
    "          0 # learning phase in TEST mode\n",
    "]\n",
    "gradients1 = get_gradients(inputs)\n",
    "for w,g in zip(weights, gradients1):\n",
    "    print('-'*20)\n",
    "    w_e = K.eval(w)\n",
    "    print(w_e)\n",
    "    print(np.sum(np.isnan(w_e)))\n",
    "    print('-'*10)\n",
    "    print(g)\n",
    "    print(np.sum(np.isnan(g)))\n",
    "print('-'*20)\n",
    "print(crnn_out1[0].shape, crnn_out2[0].shape)\n",
    "print(crnn_out1)\n",
    "print(crnn_out2)\n",
    "print(\"-\"*20)\n",
    "print(end_grad[0].shape, end_grad[1].shape)\n",
    "print(end_grad)\n",
    "print(dist)\n",
    "print(K.eval(loss))"
   ]
  },
  {
   "cell_type": "code",
   "execution_count": null,
   "metadata": {
    "collapsed": true
   },
   "outputs": [],
   "source": [
    "end_grad[0].shape"
   ]
  },
  {
   "cell_type": "code",
   "execution_count": null,
   "metadata": {
    "collapsed": true,
    "scrolled": true
   },
   "outputs": [],
   "source": [
    "model.fit(x, y)"
   ]
  },
  {
   "cell_type": "code",
   "execution_count": null,
   "metadata": {
    "collapsed": true
   },
   "outputs": [],
   "source": [
    "print_every = 1 # print every n minibatches\n",
    "minibatch_size = 8\n",
    "number_of_batches = 100\n",
    "hist = model.fit_generator(generate_samples(pairs_train, minibatch_size), steps_per_epoch=print_every, epochs=number_of_batches,\n",
    "                   #validation_data=generate_samples(pairs_test, minibatch_size), validation_steps=1,\n",
    "                   callbacks=[lrate, csv_logger, checkpointer], verbose=1)"
   ]
  },
  {
   "cell_type": "code",
   "execution_count": null,
   "metadata": {
    "collapsed": true
   },
   "outputs": [],
   "source": [
    "X_t = K.placeholder(ndim=2) #specify the right placeholder\n",
    "Y_t = K.sum(K.square(X_t)) # loss function\n",
    "fn = K.function([X_t], K.gradients(Y_t, [X_t])) #function to call the gradient"
   ]
  },
  {
   "cell_type": "code",
   "execution_count": null,
   "metadata": {
    "collapsed": true
   },
   "outputs": [],
   "source": [
    "x_t = np.asarray([[1,2],[3,4]])\n",
    "fn([x_t])"
   ]
  },
  {
   "cell_type": "code",
   "execution_count": null,
   "metadata": {
    "collapsed": true
   },
   "outputs": [],
   "source": []
  }
 ],
 "metadata": {
  "kernelspec": {
   "display_name": "Python 3",
   "language": "python",
   "name": "python3"
  },
  "language_info": {
   "codemirror_mode": {
    "name": "ipython",
    "version": 3
   },
   "file_extension": ".py",
   "mimetype": "text/x-python",
   "name": "python",
   "nbconvert_exporter": "python",
   "pygments_lexer": "ipython3",
   "version": "3.5.2"
  }
 },
 "nbformat": 4,
 "nbformat_minor": 2
}
