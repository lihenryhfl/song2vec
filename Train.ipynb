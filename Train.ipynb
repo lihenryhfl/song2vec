{
 "cells": [
  {
   "cell_type": "code",
   "execution_count": 34,
   "metadata": {
    "collapsed": true
   },
   "outputs": [],
   "source": [
    "from __future__ import print_function\n",
    "from __future__ import absolute_import\n",
    "\n",
    "import sys\n",
    "import numpy as np\n",
    "import tensorflow as tf\n",
    "from keras import backend as K\n",
    "from keras.layers import Input, Dense\n",
    "from keras.models import Model\n",
    "from keras.layers import Dense, Dropout, Reshape, Permute\n",
    "from keras.layers.convolutional import Convolution2D\n",
    "from keras.layers.convolutional import MaxPooling2D, ZeroPadding2D\n",
    "from keras.layers.normalization import BatchNormalization\n",
    "from keras.layers.advanced_activations import ELU\n",
    "from keras.layers.recurrent import GRU\n",
    "from keras.utils.data_utils import get_file\n",
    "from keras.utils.layer_utils import convert_all_kernels_in_model\n",
    "\n",
    "sys.path.insert(0, './deep-learning-models')\n",
    "from audio_conv_utils import decode_predictions, preprocess_input\n",
    "\n",
    "TH_WEIGHTS_PATH = 'https://github.com/fchollet/deep-learning-models/releases/download/v0.3/music_tagger_crnn_weights_tf_kernels_th_dim_ordering.h5'\n",
    "TF_WEIGHTS_PATH = 'https://github.com/fchollet/deep-learning-models/releases/download/v0.3/music_tagger_crnn_weights_tf_kernels_tf_dim_ordering.h5'\n",
    "\n",
    "K._LEARNING_PHASE = tf.constant(0)\n",
    "K.LEARNING_PHASE = tf.constant(0)\n",
    "K.set_learning_phase(0)"
   ]
  },
  {
   "cell_type": "code",
   "execution_count": 35,
   "metadata": {
    "collapsed": true
   },
   "outputs": [],
   "source": [
    "from __future__ import print_function\n",
    "\n",
    "import os\n",
    "import sys\n",
    "import random\n",
    "import pickle\n",
    "import pandas as pd\n",
    "import numpy as np\n",
    "import tensorflow as tf\n",
    "from keras.preprocessing.text import Tokenizer\n",
    "from keras.preprocessing.sequence import pad_sequences\n",
    "from keras.utils import to_categorical\n",
    "from keras.layers import Dense, Input, Flatten, merge\n",
    "from keras.layers import Conv1D, MaxPooling1D, Embedding\n",
    "from keras.layers.core import Masking\n",
    "from keras.layers.recurrent import LSTM\n",
    "from keras.callbacks import LearningRateScheduler, ModelCheckpoint, CSVLogger\n",
    "from keras.optimizers import rmsprop\n",
    "from keras.regularizers import l2\n",
    "from keras import backend as K\n",
    "from keras.models import Model\n",
    "\n",
    "sys.path.insert(0, './deep-learning-models')\n",
    "from music_tagger_crnn import MusicTaggerCRNN\n",
    "from audio_conv_utils import preprocess_input, decode_predictions\n",
    "\n",
    "from sklearn import metrics\n",
    "import numpy as np\n",
    "import matplotlib.pyplot as plt\n",
    "import pylab as P\n",
    "\n",
    "import socket\n",
    "if socket.gethostname()==\"euler\":\n",
    "    os.environ[\"CUDA_VISIBLE_DEVICES\"]=\"7\""
   ]
  },
  {
   "cell_type": "code",
   "execution_count": 36,
   "metadata": {
    "collapsed": true
   },
   "outputs": [],
   "source": [
    "def create_run_name(params):\n",
    "    k_v_names = []\n",
    "    for k,v in params.items():\n",
    "        k_v_names.append((k,v))\n",
    "        \n",
    "    k_v_names.sort(key=lambda x: x[0])\n",
    "    out_str = \"\"\n",
    "    for k,v in k_v_names:\n",
    "        out_str += k + \"_\" + str(v).replace('.', '-') + \"|\"\n",
    "    return out_str[:-1]"
   ]
  },
  {
   "cell_type": "code",
   "execution_count": 37,
   "metadata": {},
   "outputs": [
    {
     "data": {
      "text/plain": [
       "'glob_margin_1-0|num_hidden_128|return_sequences_False|u_reg_0-001|w_reg_0-001'"
      ]
     },
     "execution_count": 37,
     "metadata": {},
     "output_type": "execute_result"
    }
   ],
   "source": [
    "test = False\n",
    "params = {}\n",
    "params['glob_margin'] = 1.0\n",
    "params['num_hidden'] = 128\n",
    "params['w_reg'] = 0.001\n",
    "params['u_reg'] = 0.001\n",
    "params['return_sequences'] = False\n",
    "\n",
    "run_name = create_run_name(params)\n",
    "run_name"
   ]
  },
  {
   "cell_type": "code",
   "execution_count": 38,
   "metadata": {
    "collapsed": true
   },
   "outputs": [],
   "source": [
    "# load all necessary files\n",
    "valids = pickle.load(open(\"valids.pkl\", \"rb\"))\n",
    "pairs = pickle.load(open(\"pairs.pkl\", \"rb\"))\n",
    "msd_to_info = pickle.load(open(\"msd_to_info.pkl\", \"rb\"))"
   ]
  },
  {
   "cell_type": "code",
   "execution_count": 39,
   "metadata": {},
   "outputs": [
    {
     "name": "stdout",
     "output_type": "stream",
     "text": [
      "valids size: 2.097376 mB\n",
      "pairs size: 2.853112 mB\n",
      "msd_to_info size: 1.57296 mB\n"
     ]
    }
   ],
   "source": [
    "print(\"valids size:\", sys.getsizeof(valids)/1000000, \"mB\")\n",
    "print(\"pairs size:\", sys.getsizeof(pairs)/1000000, \"mB\")\n",
    "print(\"msd_to_info size:\", sys.getsizeof(msd_to_info)/1000000, \"mB\")"
   ]
  },
  {
   "cell_type": "code",
   "execution_count": 40,
   "metadata": {},
   "outputs": [
    {
     "name": "stdout",
     "output_type": "stream",
     "text": [
      "[ 0.445961    0.688843    0.99463728 ...,  0.9737456   0.9810458   0.9816389 ]\n"
     ]
    },
    {
     "data": {
      "image/png": "[encoded data removed]",
      "text/plain": [
       "<matplotlib.figure.Figure at 0x7f6d6c807e80>"
      ]
     },
     "metadata": {},
     "output_type": "display_data"
    }
   ],
   "source": [
    "# most of the similarities lie close to zero\n",
    "sims = np.asarray([float(x[2]) for x in pairs])\n",
    "print(sims)\n",
    "#n, bins, patches = plt.hist(sims, 50, normed=1, facecolor='green', alpha=0.75)\n",
    "n, bins, patches = P.hist(sims, 50, normed=1, histtype='stepfilled')\n",
    "P.setp(patches, 'facecolor', 'g', 'alpha', 0.75)\n",
    "\n",
    "P.show()"
   ]
  },
  {
   "cell_type": "code",
   "execution_count": 41,
   "metadata": {},
   "outputs": [
    {
     "name": "stdout",
     "output_type": "stream",
     "text": [
      "zeros: 5648\n",
      "ones: 114098\n"
     ]
    }
   ],
   "source": [
    "zeros = 0\n",
    "ones = 0\n",
    "for x in sims:\n",
    "    if x < 1e-2:\n",
    "        zeros += 1\n",
    "    elif x > 1 - 1e-2:\n",
    "        ones += 1\n",
    "print(\"zeros:\", zeros)\n",
    "print(\"ones:\", ones)"
   ]
  },
  {
   "cell_type": "code",
   "execution_count": 42,
   "metadata": {},
   "outputs": [
    {
     "data": {
      "text/plain": [
       "('SHSDataset/mp3/3344 - Bali_Ha_i/18044.clip.mp3',\n",
       " \"Bali Ha'i\",\n",
       " 'SODXUGX12A6310DBED',\n",
       " 'On The Moon',\n",
       " 'ARITVH41187B9A5FE4',\n",
       " 'e670db87-f910-4286-bfc6-d7ddd0b0bfbd',\n",
       " 'Peter Cincotti',\n",
       " 239.25506,\n",
       " 0.750112125537,\n",
       " 0.433159162811,\n",
       " 2004,\n",
       " 18044,\n",
       " 59758,\n",
       " 28094,\n",
       " (('easy listening', 50.0), ('00s', 25.0), ('jazz', 100.0)))"
      ]
     },
     "execution_count": 42,
     "metadata": {},
     "output_type": "execute_result"
    }
   ],
   "source": [
    "msd_to_info['TRNUDQL128E0783E5C']"
   ]
  },
  {
   "cell_type": "code",
   "execution_count": 43,
   "metadata": {
    "collapsed": true
   },
   "outputs": [],
   "source": [
    "# test the music tagger model for sanity\n",
    "if test == True:\n",
    "    model = MusicTaggerCRNN(weights='msd')\n",
    "\n",
    "    shuffled_valids = list(valids)\n",
    "    random.shuffle(shuffled_valids)\n",
    "\n",
    "    count = 0\n",
    "    for song in shuffled_valids:    \n",
    "        audio_path = '/mnt/kahuna/MSD_audio/' + msd_to_info[song][0]\n",
    "        tags = msd_to_info[song][-1]\n",
    "        if type(tags) == type(0) or len(tags) == 0:\n",
    "            # no tags\n",
    "            tags = None\n",
    "            continue\n",
    "        melgram = preprocess_input(audio_path)\n",
    "        melgrams = np.expand_dims(melgram, axis=0)\n",
    "\n",
    "        preds = model.predict(melgrams)\n",
    "        print(msd_to_info[song][1], msd_to_info[song][3], msd_to_info[song][6])\n",
    "        print('Predicted:')\n",
    "        print(decode_predictions(preds))\n",
    "        print('Actual:')\n",
    "        if tags is not None:\n",
    "            print(sorted(list(tags),key=lambda x: x[1],reverse=True))\n",
    "        else:\n",
    "            print(\"N/A\")\n",
    "        print('-'*20)\n",
    "        count += 1\n",
    "        if count >= 20:\n",
    "            break"
   ]
  },
  {
   "cell_type": "code",
   "execution_count": 44,
   "metadata": {
    "collapsed": true,
    "scrolled": true
   },
   "outputs": [],
   "source": [
    "pairs = np.asarray(pairs)\n",
    "indices = np.arange(pairs.shape[0], dtype=\"int32\")\n",
    "np.random.shuffle(indices)\n",
    "pairs = pairs[indices]\n",
    "split_pt = int(len(pairs)/7)\n",
    "pairs_train = pairs[:split_pt]\n",
    "pairs_test = pairs[split_pt:]"
   ]
  },
  {
   "cell_type": "code",
   "execution_count": 45,
   "metadata": {
    "collapsed": true
   },
   "outputs": [],
   "source": [
    "# some useful functions:\n",
    "def euc_dist(x):\n",
    "    'Merge function: euclidean_distance(u,v)'\n",
    "    print(x[0].get_shape(), x[1].get_shape())\n",
    "    diff = tf.subtract(x[0], x[1])\n",
    "    diff_sq = tf.square(diff)\n",
    "    #output = tf.reduce_sum(diff_sq, 2)\n",
    "    output_sq = tf.reduce_sum(diff_sq, 1)\n",
    "    output = tf.sqrt(output_sq)\n",
    "    output = tf.reshape(output, (-1,1))\n",
    "    print(\"output.get_shape()\", output.get_shape())\n",
    "    return output\n",
    "\n",
    "def euc_dist_shape(input_shape):\n",
    "    'Merge output shape'\n",
    "    shape = list(input_shape)\n",
    "    #outshape = (shape[0][0],shape[0][1])\n",
    "    outshape = (shape[0][0],1)\n",
    "    print(\"outshape\", outshape)\n",
    "    return tuple(outshape)\n",
    "\n",
    "def euc(vects):\n",
    "    x, y = vects\n",
    "    return K.sqrt(K.sum(K.square(x - y), axis=1, keepdims=True))\n",
    "\n",
    "def contrastive_loss(y_true, y_pred):\n",
    "    '''Contrastive loss from Hadsell-et-al.'06\n",
    "    http://yann.lecun.com/exdb/publis/pdf/hadsell-chopra-lecun-06.pdf\n",
    "    '''\n",
    "    dist = y_pred\n",
    "    return K.mean(y_true * K.square(dist) + (1 - y_true) * K.square(K.maximum(params['glob_margin'] - dist, 0)))\n",
    "\n",
    "def siamese_accuracy(y_true, y_pred):\n",
    "    margin = tf.constant([params['glob_margin']])\n",
    "    zero = tf.constant([0.0])\n",
    "    return K.mean(K.equal(np.abs(1 - y_true), K.cast(K.greater_equal(y_pred, margin), 'float32')))\n",
    "\n",
    "# add callback for learning rate\n",
    "def step_decay(epoch):\n",
    "    initial_lrate = 1e-6\n",
    "    drop = 0.1\n",
    "    epochs_drop = 150.0\n",
    "    lrate = initial_lrate * np.power(drop, np.floor((1+epoch)/epochs_drop))\n",
    "    return lrate\n",
    "lrate = LearningRateScheduler(step_decay)\n",
    "\n",
    "csv_logger = CSVLogger(run_name + '.log')\n",
    "checkpointer = ModelCheckpoint(filepath='./' + run_name + '.hdf5', verbose=1, save_best_only=True)\n",
    "optimizer = rmsprop(lr=0.0)"
   ]
  },
  {
   "cell_type": "code",
   "execution_count": 65,
   "metadata": {},
   "outputs": [
    {
     "name": "stderr",
     "output_type": "stream",
     "text": [
      "/usr/local/lib/python3.5/dist-packages/ipykernel_launcher.py:28: UserWarning: Update your `Conv2D` call to the Keras 2 API: `Conv2D(64, (3, 3), padding=\"same\", name=\"conv1\")`\n",
      "/usr/local/lib/python3.5/dist-packages/ipykernel_launcher.py:29: UserWarning: Update your `BatchNormalization` call to the Keras 2 API: `BatchNormalization(axis=3, name=\"bn1\")`\n",
      "/usr/local/lib/python3.5/dist-packages/ipykernel_launcher.py:34: UserWarning: Update your `Conv2D` call to the Keras 2 API: `Conv2D(128, (3, 3), padding=\"same\", name=\"conv2\")`\n",
      "/usr/local/lib/python3.5/dist-packages/ipykernel_launcher.py:35: UserWarning: Update your `BatchNormalization` call to the Keras 2 API: `BatchNormalization(axis=3, name=\"bn2\")`\n",
      "/usr/local/lib/python3.5/dist-packages/ipykernel_launcher.py:40: UserWarning: Update your `Conv2D` call to the Keras 2 API: `Conv2D(128, (3, 3), padding=\"same\", name=\"conv3\")`\n",
      "/usr/local/lib/python3.5/dist-packages/ipykernel_launcher.py:41: UserWarning: Update your `BatchNormalization` call to the Keras 2 API: `BatchNormalization(axis=3, name=\"bn3\")`\n",
      "/usr/local/lib/python3.5/dist-packages/ipykernel_launcher.py:46: UserWarning: Update your `Conv2D` call to the Keras 2 API: `Conv2D(128, (3, 3), padding=\"same\", name=\"conv4\")`\n",
      "/usr/local/lib/python3.5/dist-packages/ipykernel_launcher.py:47: UserWarning: Update your `BatchNormalization` call to the Keras 2 API: `BatchNormalization(axis=3, name=\"bn4\")`\n",
      "/usr/local/lib/python3.5/dist-packages/ipykernel_launcher.py:65: UserWarning: The `merge` function is deprecated and will be removed after 08/2017. Use instead layers from `keras.layers.merge`, e.g. `add`, `concatenate`, etc.\n",
      "/usr/local/lib/python3.5/dist-packages/keras/legacy/layers.py:460: UserWarning: The `Merge` layer is deprecated and will be removed after 08/2017. Use instead layers from `keras.layers.merge`, e.g. `add`, `concatenate`, etc.\n",
      "  name=name)\n",
      "/usr/local/lib/python3.5/dist-packages/ipykernel_launcher.py:67: UserWarning: Update your `Model` call to the Keras 2 API: `Model(outputs=[<tf.Tenso..., inputs=[<tf.Tenso...)`\n"
     ]
    },
    {
     "name": "stdout",
     "output_type": "stream",
     "text": [
      "outshape (None, 1)\n"
     ]
    }
   ],
   "source": [
    "# now build actual model\n",
    "\n",
    "# Determine proper input shape\n",
    "if K.image_dim_ordering() == 'th':\n",
    "    input_shape = (1, 96, 1366)\n",
    "else:\n",
    "    input_shape = (96, 1366, 1)\n",
    "\n",
    "melgram_input1 = Input(shape=input_shape)\n",
    "melgram_input2 = Input(shape=input_shape)\n",
    "\n",
    "# Determine input axis\n",
    "if K.image_dim_ordering() == 'th':\n",
    "    channel_axis = 1\n",
    "    freq_axis = 2\n",
    "    time_axis = 3\n",
    "else:\n",
    "    channel_axis = 3\n",
    "    freq_axis = 1\n",
    "    time_axis = 2\n",
    "\n",
    "layers = []\n",
    "# Input block\n",
    "layers.append(ZeroPadding2D(padding=(0, 37)))\n",
    "layers.append(BatchNormalization(axis=time_axis, name='bn_0_freq'))\n",
    "\n",
    "# Conv block 1\n",
    "layers.append(Convolution2D(64, 3, 3, border_mode='same', name='conv1')) \n",
    "layers.append(BatchNormalization(axis=channel_axis, mode=0, name='bn1')) \n",
    "layers.append(ELU()) \n",
    "layers.append(MaxPooling2D(pool_size=(2, 2), strides=(2, 2), name='pool1')) \n",
    "\n",
    "# Conv block 2\n",
    "layers.append(Convolution2D(128, 3, 3, border_mode='same', name='conv2')) \n",
    "layers.append(BatchNormalization(axis=channel_axis, mode=0, name='bn2')) \n",
    "layers.append(ELU()) \n",
    "layers.append(MaxPooling2D(pool_size=(3, 3), strides=(3, 3), name='pool2')) \n",
    "\n",
    "# Conv block 3\n",
    "layers.append(Convolution2D(128, 3, 3, border_mode='same', name='conv3')) \n",
    "layers.append(BatchNormalization(axis=channel_axis, mode=0, name='bn3')) \n",
    "layers.append(ELU()) \n",
    "layers.append(MaxPooling2D(pool_size=(4, 4), strides=(4, 4), name='pool3')) \n",
    "\n",
    "# Conv block 4\n",
    "layers.append(Convolution2D(128, 3, 3, border_mode='same', name='conv4'))\n",
    "layers.append(BatchNormalization(axis=channel_axis, mode=0, name='bn4'))\n",
    "layers.append(ELU())\n",
    "layers.append(MaxPooling2D(pool_size=(4, 4), strides=(4, 4), name='pool4'))\n",
    "\n",
    "# reshaping\n",
    "layers.append(Reshape((15, 128)))\n",
    "\n",
    "# GRU block 1, 2, output\n",
    "layers.append(GRU(32, return_sequences=True, name='gru1'))\n",
    "layers.append(GRU(32, return_sequences=False, name='gru2'))\n",
    "\n",
    "x1 = layers[0](melgram_input1)\n",
    "x2 = layers[0](melgram_input2)\n",
    "\n",
    "for l in layers[1:]:\n",
    "    x1 = l(x1)\n",
    "    x2 = l(x2)\n",
    "\n",
    "output = merge([x1, x2], mode=euc, output_shape=euc_dist_shape)\n",
    "\n",
    "model = Model(input=[melgram_input1, melgram_input2], output=[output])\n",
    "\n",
    "# Load weights\n",
    "if K.image_dim_ordering() == 'tf':\n",
    "    weights_path = get_file('music_tagger_crnn_weights_tf_kernels_tf_dim_ordering.h5',\n",
    "                            TF_WEIGHTS_PATH,\n",
    "                            cache_subdir='models')\n",
    "else:\n",
    "    weights_path = get_file('music_tagger_crnn_weights_tf_kernels_th_dim_ordering.h5',\n",
    "                            TH_WEIGHTS_PATH,\n",
    "                            cache_subdir='models')\n",
    "model.load_weights(weights_path, by_name=True)\n",
    "if K.backend() == 'theano':\n",
    "    convert_all_kernels_in_model(model)\n",
    "\n",
    "model.compile(optimizer=optimizer, loss=contrastive_loss, metrics=['mean_squared_error'])"
   ]
  },
  {
   "cell_type": "code",
   "execution_count": 66,
   "metadata": {
    "collapsed": true
   },
   "outputs": [],
   "source": [
    "crnn_out1_f = K.function(model.inputs, [x1])\n",
    "crnn_out2_f = K.function(model.inputs, [x2])\n",
    "crnn1_grad_f = K.function(model.inputs, [K.gradients(x1, model.inputs)[0]])\n",
    "crnn2_grad_f = K.function(model.inputs, [K.gradients(x2, model.inputs)[1]])\n",
    "end_grad_f = K.function([x1,x2], K.gradients(output, [x1,x2]))"
   ]
  },
  {
   "cell_type": "code",
   "execution_count": 60,
   "metadata": {},
   "outputs": [
    {
     "data": {
      "text/plain": [
       "[<keras.engine.topology.InputLayer at 0x7f6d59b2fdd8>,\n",
       " <keras.engine.topology.InputLayer at 0x7f6d59abee10>,\n",
       " <keras.layers.convolutional.ZeroPadding2D at 0x7f6d59abec50>,\n",
       " <keras.layers.normalization.BatchNormalization at 0x7f6d59abeef0>,\n",
       " <keras.layers.convolutional.Conv2D at 0x7f6d59a32438>,\n",
       " <keras.layers.normalization.BatchNormalization at 0x7f6d59a32550>,\n",
       " <keras.layers.advanced_activations.ELU at 0x7f6d59a32668>,\n",
       " <keras.layers.pooling.MaxPooling2D at 0x7f6d59a329e8>,\n",
       " <keras.layers.convolutional.Conv2D at 0x7f6d59a32a58>,\n",
       " <keras.layers.normalization.BatchNormalization at 0x7f6d59a32ac8>,\n",
       " <keras.layers.advanced_activations.ELU at 0x7f6d59a32b70>,\n",
       " <keras.layers.pooling.MaxPooling2D at 0x7f6d59a32e10>,\n",
       " <keras.layers.convolutional.Conv2D at 0x7f6d59a32e80>,\n",
       " <keras.layers.normalization.BatchNormalization at 0x7f6d59a32ef0>,\n",
       " <keras.layers.advanced_activations.ELU at 0x7f6d59a32f98>,\n",
       " <keras.layers.pooling.MaxPooling2D at 0x7f6d59ade128>,\n",
       " <keras.layers.convolutional.Conv2D at 0x7f6d59ade198>,\n",
       " <keras.layers.normalization.BatchNormalization at 0x7f6d59ade208>,\n",
       " <keras.layers.advanced_activations.ELU at 0x7f6d59ade400>,\n",
       " <keras.layers.pooling.MaxPooling2D at 0x7f6d59ade550>,\n",
       " <keras.layers.core.Reshape at 0x7f6d59ade668>,\n",
       " <keras.layers.recurrent.GRU at 0x7f6d59ade6d8>,\n",
       " <keras.layers.recurrent.GRU at 0x7f6d59ade6a0>,\n",
       " <keras.legacy.layers.Merge at 0x7f6d59308550>]"
      ]
     },
     "execution_count": 60,
     "metadata": {},
     "output_type": "execute_result"
    }
   ],
   "source": [
    "model.layers"
   ]
  },
  {
   "cell_type": "code",
   "execution_count": 61,
   "metadata": {
    "collapsed": true
   },
   "outputs": [],
   "source": [
    "def librosa_exists():\n",
    "    try:\n",
    "        __import__('librosa')\n",
    "    except ImportError:\n",
    "        return False\n",
    "    else:\n",
    "        return True\n",
    "    \n",
    "def preprocess_input(audio_path, dim_ordering='default'):\n",
    "    '''Reads an audio file and outputs a Mel-spectrogram.\n",
    "    '''\n",
    "    if dim_ordering == 'default':\n",
    "        dim_ordering = K.image_dim_ordering()\n",
    "    assert dim_ordering in {'tf', 'th'}\n",
    "\n",
    "    if librosa_exists():\n",
    "        import librosa\n",
    "    else:\n",
    "        raise RuntimeError('Librosa is required to process audio files.\\n' +\n",
    "                           'Install it via `pip install librosa` \\nor visit ' +\n",
    "                           'http://librosa.github.io/librosa/ for details.')\n",
    "\n",
    "    # mel-spectrogram parameters\n",
    "    SR = 12000\n",
    "    N_FFT = 512\n",
    "    N_MELS = 96\n",
    "    HOP_LEN = 256\n",
    "    DURA = 29.12\n",
    "    \n",
    "    try:\n",
    "        src, sr = librosa.load(audio_path, sr=SR)\n",
    "    except:\n",
    "        print(\"Unexpected error5:\", sys.exc_info()[0])\n",
    "        raise\n",
    "    n_sample = src.shape[0]\n",
    "    n_sample_wanted = int(DURA * SR)\n",
    "\n",
    "    # trim the signal at the center\n",
    "    if n_sample < n_sample_wanted:  # if too short\n",
    "        src = np.hstack((src, np.zeros((int(DURA * SR) - n_sample,))))\n",
    "    elif n_sample > n_sample_wanted:  # if too long\n",
    "        src = src[int((n_sample - n_sample_wanted) / 2):\n",
    "                  int((n_sample + n_sample_wanted) / 2)]\n",
    "\n",
    "    logam = librosa.logamplitude\n",
    "    melgram = librosa.feature.melspectrogram\n",
    "    x = logam(melgram(y=src, sr=SR, hop_length=HOP_LEN,\n",
    "                      n_fft=N_FFT, n_mels=N_MELS) ** 2,\n",
    "              ref_power=1.0)\n",
    "\n",
    "    if dim_ordering == 'th':\n",
    "        x = np.expand_dims(x, axis=0)\n",
    "    elif dim_ordering == 'tf':\n",
    "        x = np.expand_dims(x, axis=3)\n",
    "    return x"
   ]
  },
  {
   "cell_type": "code",
   "execution_count": 63,
   "metadata": {},
   "outputs": [
    {
     "name": "stdout",
     "output_type": "stream",
     "text": [
      "27971\n",
      "44223\n",
      "4283\n",
      "26298\n",
      "[array([[-0.2385257 ,  0.35595119, -0.9633112 ,  0.60060775, -0.06446465,\n",
      "         0.91847783, -0.12528034, -0.19729918, -0.28288305,  0.16121395,\n",
      "        -0.70382422, -0.07910858, -0.108913  ,  0.08156931, -0.12979852,\n",
      "        -0.23921441,  0.28929105, -0.96228033,  0.17992207,  0.12533551,\n",
      "        -0.10632191,  0.13912532, -0.37276405, -0.28528273,  0.80315596,\n",
      "         0.56534606,  0.76196551, -0.14129741, -0.95349604,  0.01233207,\n",
      "         0.49419397, -0.05498601],\n",
      "       [-0.02443022,  0.67395175, -0.9926244 ,  0.43474472, -0.42779216,\n",
      "         0.95103037, -0.00831575,  0.01247025, -0.33928674,  0.61371303,\n",
      "         0.29974806, -0.06223679, -0.10142215,  0.17808932, -0.2000782 ,\n",
      "        -0.78416872,  0.13031653, -0.97587812,  0.05265776,  0.69811857,\n",
      "         0.41318181,  0.64115125, -0.36848801, -0.79304981,  0.32055315,\n",
      "         0.39677745,  0.36411735, -0.33418548, -0.97473711,  0.26291668,\n",
      "        -0.21052638, -0.30567592],\n",
      "       [-0.1996634 ,  0.52583498, -0.91520643,  0.86475396, -0.16895419,\n",
      "         0.32081732,  0.05478825, -0.09579355, -0.34497964, -0.24459516,\n",
      "        -0.76710045,  0.26683331, -0.1452911 , -0.18276207, -0.18275985,\n",
      "        -0.0169538 ,  0.10371777, -0.91511083, -0.44561547,  0.45497864,\n",
      "        -0.03312272,  0.84023309, -0.35028759, -0.46879497,  0.69997376,\n",
      "         0.65523231,  0.82980716, -0.16977549, -0.91365051, -0.43458825,\n",
      "        -0.14758879, -0.24266447],\n",
      "       [ 0.04982678,  0.77794969, -0.98107481,  0.86118782,  0.03367957,\n",
      "         0.06529849,  0.15213881, -0.14646019, -0.31229568,  0.31719118,\n",
      "        -0.80957937,  0.82098615, -0.13779011,  0.32015267, -0.07202017,\n",
      "         0.23911521,  0.15374699, -0.97420442, -0.44757757,  0.28870362,\n",
      "        -0.44662264,  0.16105011, -0.19033234, -0.43254673,  0.67887747,\n",
      "         0.72838819,  0.10898539, -0.28986347, -0.38135266, -0.40635794,\n",
      "         0.00276908,  0.03067583]], dtype=float32)]\n",
      "[array([[-0.33130509,  0.00380733, -0.96119618,  0.80777484,  0.17635949,\n",
      "        -0.06987837, -0.1971328 , -0.00246716, -0.22091903, -0.13942939,\n",
      "        -0.69684279,  0.00204657, -0.10142215, -0.14753091, -0.03042039,\n",
      "         0.02744901,  0.09201008, -0.90471101, -0.13797256,  0.39427936,\n",
      "         0.2326272 ,  0.06547635, -0.33573854, -0.1332158 ,  0.83386338,\n",
      "         0.13705266,  0.54188305, -0.15172586, -0.92807436, -0.39496964,\n",
      "        -0.55477887,  0.00907375],\n",
      "       [-0.13251735,  0.7164939 , -0.9683792 ,  0.69092929, -0.12889971,\n",
      "         0.69323564, -0.05685484, -0.03952659, -0.33908698,  0.24278569,\n",
      "        -0.6212554 ,  0.26452252, -0.10142215,  0.11025603, -0.06609584,\n",
      "         0.24978578, -0.01188436, -0.68859565, -0.47681221,  0.44019872,\n",
      "        -0.23813744,  0.78384805, -0.35976696, -0.65114152,  0.67119449,\n",
      "         0.7456038 ,  0.87542182, -0.05548062, -0.95013571, -0.35926715,\n",
      "         0.06962393, -0.34910196],\n",
      "       [-0.03528985,  0.41895619, -0.97526872,  0.41947234, -0.05521179,\n",
      "        -0.03843579,  0.0627006 ,  0.09876167, -0.23849677,  0.31664261,\n",
      "        -0.01280229,  0.30259773, -0.08539419,  0.08456225, -0.09534877,\n",
      "         0.02421565,  0.12993491, -0.83946609, -0.2954841 ,  0.58147925,\n",
      "        -0.00280945,  0.06427141, -0.30234295, -0.4779495 ,  0.39313421,\n",
      "         0.29571292,  0.28299361, -0.19510588, -0.58720624, -0.15151475,\n",
      "        -0.26841992, -0.11002322],\n",
      "       [ 0.05646704,  0.6483475 , -0.8201983 ,  0.9425211 ,  0.10275119,\n",
      "         0.78682351, -0.06040395, -0.20809591, -0.78165984,  0.09112547,\n",
      "        -0.87766325,  0.2186594 , -0.10921689, -0.68688643, -0.20813422,\n",
      "        -0.46098411,  0.45289016, -0.97657287, -0.85975039,  0.42775092,\n",
      "        -0.78140211,  0.94117552, -0.3383092 , -0.40249267,  0.19256946,\n",
      "         0.28165337,  0.8296876 , -0.2529664 , -0.95203125, -0.15995662,\n",
      "         0.00270533, -0.40926975]], dtype=float32)]\n",
      "[[ 1.83091021]\n",
      " [ 2.09547567]\n",
      " [ 1.67137885]\n",
      " [ 2.31194663]]\n",
      "3.09019\n"
     ]
    }
   ],
   "source": [
    "def generate_samples(pairs, minibatch_size):\n",
    "    i = 0\n",
    "    n = len(pairs)\n",
    "    while 1:\n",
    "        x_1_arr = np.empty((minibatch_size, 96, 1366, 1))\n",
    "        x_2_arr = np.empty((minibatch_size, 96, 1366, 1))\n",
    "        y_arr = np.empty((minibatch_size,))\n",
    "        while i < minibatch_size:\n",
    "            rand_num = random.randint(0,n-1)\n",
    "            print(rand_num)\n",
    "            x_1, x_2, y = pairs[random.randint(0,n-1)]\n",
    "            audio_path1 = '/mnt/kahuna/MSD_audio/' + msd_to_info[x_1][0]\n",
    "            audio_path2 = '/mnt/kahuna/MSD_audio/' + msd_to_info[x_2][0]\n",
    "            try:\n",
    "                melgram1 = preprocess_input(audio_path1)\n",
    "                melgram2 = preprocess_input(audio_path2)\n",
    "            except:\n",
    "                print(\"Unexpected error4:\", sys.exc_info()[0])\n",
    "                #print(audio_path1, audio_path2)\n",
    "                #continue\n",
    "                raise\n",
    "            if np.sum(np.isnan(melgram1)) > 0 or np.sum(np.isnan(melgram2)) > 0:\n",
    "                print(\"nan!\")\n",
    "                continue\n",
    "            if np.sum(melgram1) > 0 or np.sum(melgram2) > 0:\n",
    "                print(\"zero!\")\n",
    "                continue\n",
    "            x_1_arr[i,:,:,:] = np.expand_dims(melgram1, axis=0)\n",
    "            x_2_arr[i,:,:,:] = np.expand_dims(melgram2, axis=0)\n",
    "            y_arr[i] = y\n",
    "            i += 1\n",
    "        #print(\"generated the {}th sample\".format(i))\n",
    "        yield(([x_1_arr, x_2_arr], y_arr))\n",
    "\n",
    "count = 0\n",
    "tf_false = tf.cast(tf.constant([0.0]), 'bool')\n",
    "for x, y in generate_samples(pairs_train, 4):\n",
    "    x_1, x_2 = x\n",
    "    #print(x_1,x_2)\n",
    "    K.set_learning_phase(False)\n",
    "    print(crnn_out1_f([x_1,x_2]))\n",
    "    print(crnn_out2_f([x_1,x_2]))\n",
    "    dist = model.predict([x_1, x_2])\n",
    "    print(model.predict([x_1, x_2]))\n",
    "    loss = contrastive_loss(y, dist)\n",
    "    loss = K.eval(loss)\n",
    "    print(loss)\n",
    "    #print(lstm_out1_f([x_1,x_2]), lstm_out2_f([x_1,x_2]))\n",
    "    count += 1\n",
    "    if count > 0:\n",
    "        break"
   ]
  },
  {
   "cell_type": "code",
   "execution_count": 51,
   "metadata": {},
   "outputs": [
    {
     "data": {
      "text/plain": [
       "['__call__',\n",
       " '__class__',\n",
       " '__delattr__',\n",
       " '__dict__',\n",
       " '__dir__',\n",
       " '__doc__',\n",
       " '__eq__',\n",
       " '__format__',\n",
       " '__ge__',\n",
       " '__getattribute__',\n",
       " '__gt__',\n",
       " '__hash__',\n",
       " '__init__',\n",
       " '__le__',\n",
       " '__lt__',\n",
       " '__module__',\n",
       " '__ne__',\n",
       " '__new__',\n",
       " '__reduce__',\n",
       " '__reduce_ex__',\n",
       " '__repr__',\n",
       " '__setattr__',\n",
       " '__sizeof__',\n",
       " '__str__',\n",
       " '__subclasshook__',\n",
       " '__weakref__',\n",
       " '_add_inbound_node',\n",
       " '_built',\n",
       " '_constraints',\n",
       " '_get_node_attribute_at_index',\n",
       " '_initial_weights',\n",
       " '_losses',\n",
       " '_non_trainable_weights',\n",
       " '_per_input_losses',\n",
       " '_per_input_updates',\n",
       " '_trainable_weights',\n",
       " '_updates',\n",
       " 'activation',\n",
       " 'activity_regularizer',\n",
       " 'add_loss',\n",
       " 'add_update',\n",
       " 'add_weight',\n",
       " 'assert_input_compatibility',\n",
       " 'bias',\n",
       " 'bias_constraint',\n",
       " 'bias_h',\n",
       " 'bias_initializer',\n",
       " 'bias_r',\n",
       " 'bias_regularizer',\n",
       " 'bias_z',\n",
       " 'build',\n",
       " 'built',\n",
       " 'call',\n",
       " 'compute_mask',\n",
       " 'compute_output_shape',\n",
       " 'constraints',\n",
       " 'count_params',\n",
       " 'dropout',\n",
       " 'from_config',\n",
       " 'get_config',\n",
       " 'get_constants',\n",
       " 'get_initial_states',\n",
       " 'get_input_at',\n",
       " 'get_input_mask_at',\n",
       " 'get_input_shape_at',\n",
       " 'get_losses_for',\n",
       " 'get_output_at',\n",
       " 'get_output_mask_at',\n",
       " 'get_output_shape_at',\n",
       " 'get_updates_for',\n",
       " 'get_weights',\n",
       " 'go_backwards',\n",
       " 'implementation',\n",
       " 'inbound_nodes',\n",
       " 'input',\n",
       " 'input_dim',\n",
       " 'input_mask',\n",
       " 'input_shape',\n",
       " 'input_spec',\n",
       " 'kernel',\n",
       " 'kernel_constraint',\n",
       " 'kernel_h',\n",
       " 'kernel_initializer',\n",
       " 'kernel_r',\n",
       " 'kernel_regularizer',\n",
       " 'kernel_z',\n",
       " 'losses',\n",
       " 'name',\n",
       " 'non_trainable_weights',\n",
       " 'outbound_nodes',\n",
       " 'output',\n",
       " 'output_mask',\n",
       " 'output_shape',\n",
       " 'preprocess_input',\n",
       " 'recurrent_activation',\n",
       " 'recurrent_constraint',\n",
       " 'recurrent_dropout',\n",
       " 'recurrent_initializer',\n",
       " 'recurrent_kernel',\n",
       " 'recurrent_kernel_h',\n",
       " 'recurrent_kernel_r',\n",
       " 'recurrent_kernel_z',\n",
       " 'recurrent_regularizer',\n",
       " 'reset_states',\n",
       " 'return_sequences',\n",
       " 'set_weights',\n",
       " 'state_spec',\n",
       " 'stateful',\n",
       " 'states',\n",
       " 'step',\n",
       " 'supports_masking',\n",
       " 'trainable',\n",
       " 'trainable_weights',\n",
       " 'units',\n",
       " 'unroll',\n",
       " 'updates',\n",
       " 'use_bias',\n",
       " 'weights']"
      ]
     },
     "execution_count": 51,
     "metadata": {},
     "output_type": "execute_result"
    }
   ],
   "source": [
    "dir(model.layers[-3])"
   ]
  },
  {
   "cell_type": "code",
   "execution_count": 52,
   "metadata": {},
   "outputs": [
    {
     "data": {
      "text/plain": [
       "[array([[-0.03883676, -0.19665682,  0.09519399, ..., -0.01679893,\n",
       "         -0.11232486, -0.05320075],\n",
       "        [ 0.10318386,  0.00750141,  0.0877763 , ...,  0.28539926,\n",
       "         -0.26765713,  0.12707934],\n",
       "        [ 0.02139056, -0.20284753, -0.13729262, ...,  0.06997423,\n",
       "         -0.18604344,  0.16012473],\n",
       "        ..., \n",
       "        [-0.29321396,  0.13158584,  0.07120441, ..., -0.27863073,\n",
       "          0.13259968, -0.3381097 ],\n",
       "        [-0.29643059, -0.43796661, -0.38792628, ...,  0.24001566,\n",
       "          0.53937805, -0.31751484],\n",
       "        [-0.15014616,  0.38404396,  0.02415507, ...,  0.11745741,\n",
       "         -0.77597785,  0.13635641]], dtype=float32),\n",
       " array([[ -9.47186053e-01,   1.60324425e-01,   1.57704294e-01, ...,\n",
       "           8.05203021e-02,  -1.34790933e+00,   9.51107025e-01],\n",
       "        [ -1.63089693e-01,  -6.83150172e-01,  -1.21464767e-01, ...,\n",
       "           1.34107387e+00,   1.12605959e-01,  -1.98369956e+00],\n",
       "        [ -2.48719994e-02,  -5.93665354e-02,   9.10036623e-01, ...,\n",
       "          -9.65682745e-01,  -2.36691590e-02,   1.19689929e+00],\n",
       "        ..., \n",
       "        [  3.34802382e-02,  -2.13295710e-03,  -3.05261433e-01, ...,\n",
       "          -6.48637652e-01,  -5.07584751e-01,   1.01835474e-01],\n",
       "        [ -1.28394803e-02,  -1.57841548e-01,  -1.81187227e-01, ...,\n",
       "           3.89531488e-03,  -2.29510665e+00,  -1.27080142e-01],\n",
       "        [  2.61472967e-02,   2.62971848e-01,   1.81499839e-01, ...,\n",
       "          -4.44106430e-01,   5.94553411e-01,  -2.56875682e+00]], dtype=float32),\n",
       " array([ 0.36170045,  0.44522876,  0.51059151,  0.44032633,  0.58562148,\n",
       "         0.58626771,  0.57625389,  0.25094056,  0.51172054,  0.1436536 ,\n",
       "         0.3335728 ,  0.77312475,  0.53322452,  0.24535024,  0.43820554,\n",
       "         0.12111251,  0.47437674,  0.40113062,  0.40148866, -0.05959507,\n",
       "         0.37552214,  0.16756405,  0.69144636,  0.53714883,  0.50102067,\n",
       "         0.21215422,  0.48787761,  0.64442998,  0.54510987,  0.14226449,\n",
       "         0.11426339,  0.65699422, -0.38056296, -0.68901813,  0.0371931 ,\n",
       "        -0.46195725, -0.4460761 , -0.02191511, -0.31551045,  0.00178064,\n",
       "        -0.77995986, -0.16975051, -0.28677347, -0.18488775, -0.70762038,\n",
       "        -0.64967287, -0.96831703, -0.82630455,  0.03227914, -0.47145975,\n",
       "        -0.21370171,  0.23140901, -0.45259494, -0.61124206, -0.87801737,\n",
       "        -0.43418503, -0.44516081, -0.33159947, -0.53306341, -0.83895445,\n",
       "        -0.14709422, -0.4753899 ,  1.05458748,  0.67554086,  0.17065167,\n",
       "         0.0935901 , -0.33412942,  0.01846308, -0.15583698,  0.20059937,\n",
       "         0.21184123,  0.02206996,  0.08638079,  0.34532905, -0.27271429,\n",
       "        -0.03909141, -0.353861  ,  0.17558075, -0.06402573, -0.09718722,\n",
       "         0.08401089, -0.01822751,  0.06800526,  0.19229208,  0.18676616,\n",
       "        -0.08522957,  0.07021043,  0.06671902, -0.07563659,  0.12211337,\n",
       "         0.00319226, -0.19130211, -0.2525962 , -0.29326797, -0.3687928 ,\n",
       "         0.23513682], dtype=float32)]"
      ]
     },
     "execution_count": 52,
     "metadata": {},
     "output_type": "execute_result"
    }
   ],
   "source": [
    "model.layers[-2].get_weights()"
   ]
  },
  {
   "cell_type": "code",
   "execution_count": 71,
   "metadata": {},
   "outputs": [
    {
     "name": "stdout",
     "output_type": "stream",
     "text": [
      "[array([[ 0.70976204, -0.34295353, -0.61553907, -0.07976322,  0.46822467,\n",
      "         0.24924265, -0.4485752 ,  0.22979632, -0.08877571, -0.5345602 ,\n",
      "        -0.13477644, -0.10183962, -0.11997261, -0.91196299, -0.04045971,\n",
      "         0.32885331,  0.34113938, -0.90098959,  0.18149097,  0.00174973,\n",
      "        -0.57917404, -0.52865779, -0.22759591,  0.31538695, -0.3420206 ,\n",
      "         0.31757373,  0.19841848, -0.16221382, -0.45655236,  0.02530195,\n",
      "        -0.03206787,  0.05971357],\n",
      "       [ 0.8808859 ,  0.4629702 , -0.25143445,  0.15781571,  0.35889751,\n",
      "         0.6090796 ,  0.12989223,  0.17423958, -0.87150872,  0.10884797,\n",
      "        -0.49157411, -0.08396518, -0.12635106, -0.83465147, -0.74659991,\n",
      "         0.01236937,  0.97253269, -0.97352302, -0.45654759, -0.08109133,\n",
      "        -0.16528143, -0.46046469, -0.21558517,  0.21374586, -0.45235693,\n",
      "         0.1585604 , -0.01792768, -0.19036345, -0.00700196, -0.1932922 ,\n",
      "         0.50091588, -0.0150629 ],\n",
      "       [ 0.85154581,  0.95284379,  0.70895368,  0.21317594, -0.12238936,\n",
      "         0.84524226,  0.06970432,  0.37051335, -0.30824721,  0.23386724,\n",
      "         0.82016659,  0.86294234,  0.32614875,  0.17588982, -0.99319065,\n",
      "        -0.86306584,  0.92148858, -0.71843994,  0.23529285, -0.75802255,\n",
      "         0.18552431,  0.94763708,  0.30536425,  0.70108974, -0.41926974,\n",
      "        -0.5456543 ,  0.18647805, -0.08564173, -0.17748705, -0.22860026,\n",
      "         0.09400562, -0.69968283],\n",
      "       [-0.41787931,  0.98819619, -0.71213281,  0.96774817, -0.31663424,\n",
      "        -0.23707679,  0.09318914, -0.64696568, -0.28920153,  0.15280667,\n",
      "        -0.89299047,  0.91767365,  0.30844223, -0.3090333 , -0.80579758,\n",
      "        -0.56776935,  0.9224562 , -0.32139131,  0.17523524, -0.27706754,\n",
      "        -0.23162633, -0.32234704, -0.26518217,  0.21821541,  0.51938468,\n",
      "         0.7149387 ,  0.655402  , -0.25147402,  0.26098597,  0.08821323,\n",
      "         0.75829327, -0.63585752]], dtype=float32)]\n"
     ]
    }
   ],
   "source": [
    "# TODO: print all the different learning phases\n",
    "#print(type(x_1))\n",
    "#print(model.inputs)\n",
    "print(crnn_out1_f([x_2, x_2]))\n",
    "#print(crnn_out2_f([x_1,x_2]))"
   ]
  },
  {
   "cell_type": "code",
   "execution_count": 54,
   "metadata": {},
   "outputs": [
    {
     "name": "stdout",
     "output_type": "stream",
     "text": [
      "[ 12000.  12000.  12000. ...,  12000.  12000.  12000.] | [ 12000.  12000.  12000. ...,  12000.  12000.  12000.]\n",
      "[ 12000.  12000.  12000. ...,  12000.  12000.  12000.] | [ 12000.  12000.  12000. ...,  12000.  12000.  12000.]\n",
      "[ 12000.  12000.  12000. ...,  12000.  12000.  12000.] | [ 12000.  12000.  12000. ...,  12000.  12000.  12000.]\n",
      "[ 12000.          12000.          12000.         ...,  11999.99804688\n",
      "  12000.          12000.        ] | [ 12000.          12000.          12000.         ...,  11999.99804688\n",
      "  12000.          12000.        ]\n",
      "[ 12000.  12000.  12000. ...,  12000.  12000.  12000.] | [ 12000.  12000.  12000. ...,  12000.  12000.  12000.]\n",
      "[ 12000.          12000.          12000.         ...,  12000.\n",
      "  11999.99902344  12000.        ] | [ 12000.          12000.          12000.         ...,  12000.\n",
      "  11999.99902344  12000.        ]\n",
      "[ 12000.  12000.  12000. ...,  12000.  12000.  12000.] | [ 12000.  12000.  12000. ...,  12000.  12000.  12000.]\n",
      "[ 12000.  12000.  12000. ...,  12000.  12000.  12000.] | [ 12000.  12000.  12000. ...,  12000.  12000.  12000.]\n",
      "[ 12000.  12000.  12000. ...,  12000.  12000.  12000.] | [ 12000.  12000.  12000. ...,  12000.  12000.  12000.]\n",
      "[ 12000.  12000.  12000. ...,  12000.  12000.  12000.] | [ 12000.  12000.  12000. ...,  12000.  12000.  12000.]\n",
      "[ 12000.          12000.          12000.         ...,  12000.00097656\n",
      "  12000.00097656  12000.        ] | [ 12000.          12000.          12000.         ...,  12000.00097656\n",
      "  12000.00097656  12000.        ]\n"
     ]
    }
   ],
   "source": [
    "import librosa\n",
    "SR = 12000\n",
    "for i, p in enumerate(pairs_train):\n",
    "    x1, x2, y = p\n",
    "    audio_path1 = '/mnt/kahuna/MSD_audio/' + msd_to_info[x1][0]\n",
    "    audio_path2 = '/mnt/kahuna/MSD_audio/' + msd_to_info[x2][0]\n",
    "    src1 = librosa.load(audio_path1, sr=SR)\n",
    "    src2 = librosa.load(audio_path1, sr=SR)\n",
    "    print(np.sum(src1), \"|\", np.sum(src2))\n",
    "    if i >= 10:\n",
    "        break"
   ]
  },
  {
   "cell_type": "code",
   "execution_count": null,
   "metadata": {},
   "outputs": [
    {
     "name": "stdout",
     "output_type": "stream",
     "text": [
      "15577\n"
     ]
    }
   ],
   "source": [
    "# debug nans\n",
    "keep_looping = True\n",
    "count = 0\n",
    "for x, y in generate_samples(pairs_train, 1):\n",
    "    prev_input = [x,y]\n",
    "    prev_weights2 = model.layers[-2].get_weights()\n",
    "    prev_weights3 = model.layers[-3].get_weights()\n",
    "    model.fit(x, y, batch_size=1, epochs=1, verbose=0)\n",
    "    #print(\"loop num:\", count, x)\n",
    "    for w in model.layers[-2].get_weights():\n",
    "        if np.sum(np.isnan(w)) > 0:\n",
    "            keep_looping = False\n",
    "            break\n",
    "    if keep_looping == False:\n",
    "        break\n",
    "    for w in model.layers[-3].get_weights():\n",
    "        if np.sum(np.isnan(w)) > 0:\n",
    "            keep_looping = False\n",
    "            break\n",
    "    if keep_looping == False:\n",
    "        break\n",
    "    count += 1"
   ]
  },
  {
   "cell_type": "code",
   "execution_count": null,
   "metadata": {
    "collapsed": true
   },
   "outputs": [],
   "source": [
    "model.layers[-2].get_weights()"
   ]
  },
  {
   "cell_type": "code",
   "execution_count": null,
   "metadata": {
    "collapsed": true
   },
   "outputs": [],
   "source": [
    "model.layers[-3].get_weights()"
   ]
  },
  {
   "cell_type": "code",
   "execution_count": null,
   "metadata": {
    "collapsed": true
   },
   "outputs": [],
   "source": [
    "x, y = prev_input\n",
    "print(np.argwhere(np.isnan(x[0])))\n",
    "print(np.sum(np.isnan(x[0])))\n",
    "print(np.sum(np.isnan(x[1])))"
   ]
  },
  {
   "cell_type": "code",
   "execution_count": null,
   "metadata": {
    "collapsed": true,
    "scrolled": true
   },
   "outputs": [],
   "source": [
    "len(np.argwhere(np.isnan(x[0])))"
   ]
  },
  {
   "cell_type": "code",
   "execution_count": null,
   "metadata": {
    "collapsed": true
   },
   "outputs": [],
   "source": [
    "print(\"test 1\")\n",
    "for elem in x:\n",
    "    if np.sum(elem) > 0:\n",
    "        print(np.sum(elem))\n",
    "\n",
    "print(\"test 2\")\n",
    "for i in range(x[0].shape[0]):\n",
    "    if np.sum(np.isclose(x[0][i,...], x[1][i,...])):\n",
    "        print(i)"
   ]
  },
  {
   "cell_type": "code",
   "execution_count": 72,
   "metadata": {},
   "outputs": [
    {
     "name": "stdout",
     "output_type": "stream",
     "text": [
      "(1, 32) (1, 32)\n",
      "[array([[-0.20428671,  0.82197344,  0.19314764,  0.13846055, -0.10819153,\n",
      "        -0.13599275,  0.12320132, -0.46429175,  0.90909827,  0.16137615,\n",
      "        -0.53901476,  0.67054307,  0.83940256,  0.06412182, -0.80935675,\n",
      "        -0.07365309,  0.00632952,  0.20396236,  0.89766496, -0.65150899,\n",
      "         0.23808403,  0.21640357,  0.71191549,  0.10054032, -0.27683973,\n",
      "         0.01034541,  0.02621806,  0.61473495,  0.25212139,  0.77928054,\n",
      "        -0.07494275, -0.79768127]], dtype=float32)]\n",
      "[array([[-0.0764785 , -0.07561693,  0.11879298,  0.38892731,  0.08373836,\n",
      "        -0.22229081,  0.12435176, -0.48225555,  0.08445067,  0.18288572,\n",
      "        -0.01890013,  0.29773507,  0.64701045,  0.07625987, -0.0432539 ,\n",
      "         0.33944228, -0.051684  , -0.22899328, -0.43555868, -0.06058469,\n",
      "        -0.63240761,  0.1276195 ,  0.15327746, -0.21170387,  0.25108832,\n",
      "        -0.3210032 ,  0.02800143,  0.44193915,  0.2638199 ,  0.26973233,\n",
      "        -0.07944777,  0.04555594]], dtype=float32)]\n",
      "--------------------\n",
      "(1, 32) (1, 32)\n",
      "[array([[ -4.60543409e-02,   3.23437214e-01,   2.67929174e-02,\n",
      "         -9.02530551e-02,  -6.91599026e-02,   3.10965944e-02,\n",
      "         -4.14550392e-04,   6.47306442e-03,   2.97153056e-01,\n",
      "         -7.75074726e-03,  -1.87417820e-01,   1.34337425e-01,\n",
      "          6.93264678e-02,  -4.37381677e-03,  -2.76057065e-01,\n",
      "         -1.48854539e-01,   2.09045578e-02,   1.56010985e-01,\n",
      "          4.80413020e-01,  -2.12933317e-01,   3.13672453e-01,\n",
      "          3.19924019e-02,   2.01299310e-01,   1.12513892e-01,\n",
      "         -1.90233290e-01,   1.19397968e-01,  -6.42618223e-04,\n",
      "          6.22651428e-02,  -4.21543606e-03,   1.83610305e-01,\n",
      "          1.62333483e-03,  -3.03851634e-01]], dtype=float32), array([[  4.60543409e-02,  -3.23437214e-01,  -2.67929174e-02,\n",
      "          9.02530551e-02,   6.91599026e-02,  -3.10965944e-02,\n",
      "          4.14550392e-04,  -6.47306442e-03,  -2.97153056e-01,\n",
      "          7.75074726e-03,   1.87417820e-01,  -1.34337425e-01,\n",
      "         -6.93264678e-02,   4.37381677e-03,   2.76057065e-01,\n",
      "          1.48854539e-01,  -2.09045578e-02,  -1.56010985e-01,\n",
      "         -4.80413020e-01,   2.12933317e-01,  -3.13672453e-01,\n",
      "         -3.19924019e-02,  -2.01299310e-01,  -1.12513892e-01,\n",
      "          1.90233290e-01,  -1.19397968e-01,   6.42618223e-04,\n",
      "         -6.22651428e-02,   4.21543606e-03,  -1.83610305e-01,\n",
      "         -1.62333483e-03,   3.03851634e-01]], dtype=float32)]\n",
      "[[ 2.77516127]]\n",
      "0.0\n"
     ]
    }
   ],
   "source": [
    "x, y = prev_input\n",
    "model.layers[-2].set_weights(prev_weights2)\n",
    "model.layers[-3].set_weights(prev_weights3)\n",
    "dist = model.predict(x)\n",
    "crnn_out1 = crnn_out1_f(x)\n",
    "crnn_out2 = crnn_out2_f(x)\n",
    "loss = contrastive_loss(y, dist)\n",
    "grad1 = crnn1_grad_f(x)\n",
    "grad2 = crnn2_grad_f(x)\n",
    "end_grad = end_grad_f([crnn_out1[0], crnn_out2[0]])\n",
    "print(crnn_out1[0].shape, crnn_out2[0].shape)\n",
    "print(crnn_out1)\n",
    "print(crnn_out2)\n",
    "#print(\"-\"*20)\n",
    "#print(grad1[0].shape, grad2[0].shape)\n",
    "#print(grad1)\n",
    "#print(grad2)\n",
    "print(\"-\"*20)\n",
    "print(end_grad[0].shape, end_grad[1].shape)\n",
    "print(end_grad)\n",
    "print(dist)\n",
    "print(K.eval(loss))"
   ]
  },
  {
   "cell_type": "code",
   "execution_count": null,
   "metadata": {
    "collapsed": true
   },
   "outputs": [],
   "source": [
    "end_grad[0].shape"
   ]
  },
  {
   "cell_type": "code",
   "execution_count": null,
   "metadata": {
    "collapsed": true,
    "scrolled": true
   },
   "outputs": [],
   "source": [
    "model.fit(x, y)"
   ]
  },
  {
   "cell_type": "code",
   "execution_count": null,
   "metadata": {
    "collapsed": true
   },
   "outputs": [],
   "source": [
    "print_every = 1 # print every n minibatches\n",
    "minibatch_size = 8\n",
    "number_of_batches = 100\n",
    "hist = model.fit_generator(generate_samples(pairs_train, minibatch_size), steps_per_epoch=print_every, epochs=number_of_batches,\n",
    "                   #validation_data=generate_samples(pairs_test, minibatch_size), validation_steps=1,\n",
    "                   callbacks=[lrate, csv_logger, checkpointer], verbose=1)"
   ]
  },
  {
   "cell_type": "code",
   "execution_count": null,
   "metadata": {
    "collapsed": true
   },
   "outputs": [],
   "source": [
    "X_t = K.placeholder(ndim=2) #specify the right placeholder\n",
    "Y_t = K.sum(K.square(X_t)) # loss function\n",
    "fn = K.function([X_t], K.gradients(Y_t, [X_t])) #function to call the gradient"
   ]
  },
  {
   "cell_type": "code",
   "execution_count": null,
   "metadata": {
    "collapsed": true
   },
   "outputs": [],
   "source": [
    "x_t = np.asarray([[1,2],[3,4]])\n",
    "fn([x_t])"
   ]
  },
  {
   "cell_type": "code",
   "execution_count": null,
   "metadata": {
    "collapsed": true
   },
   "outputs": [],
   "source": []
  }
 ],
 "metadata": {
  "kernelspec": {
   "display_name": "Python 3",
   "language": "python",
   "name": "python3"
  },
  "language_info": {
   "codemirror_mode": {
    "name": "ipython",
    "version": 3
   },
   "file_extension": ".py",
   "mimetype": "text/x-python",
   "name": "python",
   "nbconvert_exporter": "python",
   "pygments_lexer": "ipython3",
   "version": "3.5.2"
  }
 },
 "nbformat": 4,
 "nbformat_minor": 2
}
